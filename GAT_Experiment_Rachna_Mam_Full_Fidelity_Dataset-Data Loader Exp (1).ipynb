{
 "cells": [
  {
   "cell_type": "markdown",
   "metadata": {},
   "source": [
    "# Utils Code"
   ]
  },
  {
   "cell_type": "code",
   "execution_count": 1,
   "metadata": {},
   "outputs": [],
   "source": [
    "import numpy as np\n",
    "import scipy.sparse as sp\n",
    "import torch\n",
    "\n",
    "def encode_onehot(labels):\n",
    "    # The classes must be sorted before encoding to enable static class encoding.\n",
    "    # In other words, make sure the first class always maps to index 0.\n",
    "    classes = sorted(list(set(labels)))\n",
    "    #print(\"encode_classes\",classes)\n",
    "    classes_dict = {c: np.identity(len(classes))[i, :] for i, c in enumerate(classes)}\n",
    "    labels_onehot = np.array(list(map(classes_dict.get, labels)), dtype=np.int32)\n",
    "    #print(\"labels_onehot\",labels_onehot)\n",
    "    return labels_onehot,classes_dict\n",
    "\n",
    "def normalize_adj(mx):\n",
    "    \"\"\"Row-normalize sparse matrix\"\"\"\n",
    "    rowsum = np.array(mx.sum(1))\n",
    "    r_inv_sqrt = np.power(rowsum, -0.5).flatten()\n",
    "    r_inv_sqrt[np.isinf(r_inv_sqrt)] = 0.\n",
    "    r_mat_inv_sqrt = sp.diags(r_inv_sqrt)\n",
    "    return mx.dot(r_mat_inv_sqrt).transpose().dot(r_mat_inv_sqrt)\n",
    "\n",
    "def normalize_features(mx):\n",
    "    \"\"\"Row-normalize sparse matrix\"\"\"\n",
    "    rowsum = np.array(mx.sum(1))\n",
    "    r_inv = np.power(rowsum, -1).flatten()\n",
    "    r_inv[np.isinf(r_inv)] = 0.\n",
    "    r_mat_inv = sp.diags(r_inv)\n",
    "    mx = r_mat_inv.dot(mx)\n",
    "    return mx\n",
    "\n",
    "def accuracy(output, labels):\n",
    "    preds = output.max(1)[1].type_as(labels)\n",
    "    #print(\"pred\",preds.shape)\n",
    "    correct = preds.eq(labels).double()\n",
    "    #print(\"correct:\",correct.shape)\n",
    "    correct = correct.sum()\n",
    "    return correct / len(labels)"
   ]
  },
  {
   "cell_type": "markdown",
   "metadata": {},
   "source": [
    "# Adj and feature preparation from small fidelity dataset examples"
   ]
  },
  {
   "cell_type": "code",
   "execution_count": 2,
   "metadata": {},
   "outputs": [],
   "source": [
    "import pandas as pd\n",
    "df = pd.read_excel('VA_Final_Final_Sep08Ankit (Oct 8).xlsx')"
   ]
  },
  {
   "cell_type": "code",
   "execution_count": 3,
   "metadata": {},
   "outputs": [],
   "source": [
    "df = df.sample(frac=1).reset_index(drop=True)"
   ]
  },
  {
   "cell_type": "code",
   "execution_count": 4,
   "metadata": {},
   "outputs": [],
   "source": [
    "df = df.drop('Unnamed: 2',axis=1)"
   ]
  },
  {
   "cell_type": "code",
   "execution_count": 5,
   "metadata": {},
   "outputs": [
    {
     "data": {
      "text/plain": [
       "0"
      ]
     },
     "execution_count": 5,
     "metadata": {},
     "output_type": "execute_result"
    }
   ],
   "source": [
    "df['Cogstore Mix Intent'].isna().sum()"
   ]
  },
  {
   "cell_type": "code",
   "execution_count": 6,
   "metadata": {},
   "outputs": [],
   "source": [
    "df = df.rename({'Cogstore Mix Intent':'Label','Updated_Ankit':'Text'},axis=1)"
   ]
  },
  {
   "cell_type": "code",
   "execution_count": 7,
   "metadata": {},
   "outputs": [
    {
     "data": {
      "text/html": [
       "<div>\n",
       "<style scoped>\n",
       "    .dataframe tbody tr th:only-of-type {\n",
       "        vertical-align: middle;\n",
       "    }\n",
       "\n",
       "    .dataframe tbody tr th {\n",
       "        vertical-align: top;\n",
       "    }\n",
       "\n",
       "    .dataframe thead th {\n",
       "        text-align: right;\n",
       "    }\n",
       "</style>\n",
       "<table border=\"1\" class=\"dataframe\">\n",
       "  <thead>\n",
       "    <tr style=\"text-align: right;\">\n",
       "      <th></th>\n",
       "      <th>Label</th>\n",
       "      <th>Text</th>\n",
       "    </tr>\n",
       "  </thead>\n",
       "  <tbody>\n",
       "    <tr>\n",
       "      <th>0</th>\n",
       "      <td>FundAvailability</td>\n",
       "      <td>once i sell a portion of my roth how long will...</td>\n",
       "    </tr>\n",
       "    <tr>\n",
       "      <th>1</th>\n",
       "      <td>PensionLetter</td>\n",
       "      <td>pension verification letter</td>\n",
       "    </tr>\n",
       "    <tr>\n",
       "      <th>2</th>\n",
       "      <td>HowDoImakeAstockOrMutualFundTrade</td>\n",
       "      <td>ok so i select exchange</td>\n",
       "    </tr>\n",
       "    <tr>\n",
       "      <th>3</th>\n",
       "      <td>FidelityHours</td>\n",
       "      <td>saturday hours</td>\n",
       "    </tr>\n",
       "    <tr>\n",
       "      <th>4</th>\n",
       "      <td>ResearchInvestments</td>\n",
       "      <td>what companies grow cannabis</td>\n",
       "    </tr>\n",
       "    <tr>\n",
       "      <th>...</th>\n",
       "      <td>...</td>\n",
       "      <td>...</td>\n",
       "    </tr>\n",
       "    <tr>\n",
       "      <th>27722</th>\n",
       "      <td>UpdatePersonalInfo</td>\n",
       "      <td>i have changed my cell number and need to upda...</td>\n",
       "    </tr>\n",
       "    <tr>\n",
       "      <th>27723</th>\n",
       "      <td>TakeOutLoan</td>\n",
       "      <td>if i pay off my 401 k loan am i immediately el...</td>\n",
       "    </tr>\n",
       "    <tr>\n",
       "      <th>27724</th>\n",
       "      <td>StatementsViewOnline</td>\n",
       "      <td>how do i find year end statements for 2002 2006</td>\n",
       "    </tr>\n",
       "    <tr>\n",
       "      <th>27725</th>\n",
       "      <td>ContactFidelity</td>\n",
       "      <td>need to speak to representative</td>\n",
       "    </tr>\n",
       "    <tr>\n",
       "      <th>27726</th>\n",
       "      <td>AcctRoutingNum</td>\n",
       "      <td>fidelity aba number</td>\n",
       "    </tr>\n",
       "  </tbody>\n",
       "</table>\n",
       "<p>27727 rows × 2 columns</p>\n",
       "</div>"
      ],
      "text/plain": [
       "                                   Label  \\\n",
       "0                       FundAvailability   \n",
       "1                          PensionLetter   \n",
       "2      HowDoImakeAstockOrMutualFundTrade   \n",
       "3                          FidelityHours   \n",
       "4                    ResearchInvestments   \n",
       "...                                  ...   \n",
       "27722                 UpdatePersonalInfo   \n",
       "27723                        TakeOutLoan   \n",
       "27724               StatementsViewOnline   \n",
       "27725                    ContactFidelity   \n",
       "27726                     AcctRoutingNum   \n",
       "\n",
       "                                                    Text  \n",
       "0      once i sell a portion of my roth how long will...  \n",
       "1                            pension verification letter  \n",
       "2                                ok so i select exchange  \n",
       "3                                         saturday hours  \n",
       "4                           what companies grow cannabis  \n",
       "...                                                  ...  \n",
       "27722  i have changed my cell number and need to upda...  \n",
       "27723  if i pay off my 401 k loan am i immediately el...  \n",
       "27724    how do i find year end statements for 2002 2006  \n",
       "27725                    need to speak to representative  \n",
       "27726                                fidelity aba number  \n",
       "\n",
       "[27727 rows x 2 columns]"
      ]
     },
     "execution_count": 7,
     "metadata": {},
     "output_type": "execute_result"
    }
   ],
   "source": [
    "df"
   ]
  },
  {
   "cell_type": "code",
   "execution_count": 8,
   "metadata": {},
   "outputs": [
    {
     "name": "stdout",
     "output_type": "stream",
     "text": [
      "i want to boost my saving\n",
      "what is a unitized stock fund\n",
      "workplace disclaimer\n",
      "nointent\n"
     ]
    }
   ],
   "source": [
    "for inde,row in df.iterrows():\n",
    "    if row['Label']=='BoostSavings':\n",
    "        print(row['Text']) \n",
    "for inde,row in df.iterrows():\n",
    "    if row['Label']=='UnitizedStockFund':\n",
    "        print(row['Text'])\n",
    "for inde,row in df.iterrows():\n",
    "    if row['Label']=='WorkplaceDisclaimer':\n",
    "        print(row['Text'])\n",
    "for inde,row in df.iterrows():\n",
    "    if row['Label']=='NO_INTENT':\n",
    "        print(row['Text'])        "
   ]
  },
  {
   "cell_type": "code",
   "execution_count": 9,
   "metadata": {},
   "outputs": [],
   "source": [
    "for inde,row in df.iterrows():\n",
    "    if row['Label']=='NO_INTENT' or row['Label']=='UnitizedStockFund' or row['Label']=='WorkplaceDisclaimer' or row['Label']=='BoostSavings':\n",
    "        row['Label']='Other'"
   ]
  },
  {
   "cell_type": "code",
   "execution_count": 10,
   "metadata": {},
   "outputs": [
    {
     "data": {
      "text/plain": [
       "IwantToSetUpAtransfer        1166\n",
       "Contributions                1040\n",
       "IwantToSetUpAwithdrawal       813\n",
       "BillpayGeneral                810\n",
       "RolloverGeneral               809\n",
       "                             ... \n",
       "UsernameOverlap                 3\n",
       "GoalboosterNextSteps            3\n",
       "NetUnrealizedAppreciation       3\n",
       "WithdrawalDueToDisability       2\n",
       "ElectiveContribution            2\n",
       "Name: Label, Length: 190, dtype: int64"
      ]
     },
     "execution_count": 10,
     "metadata": {},
     "output_type": "execute_result"
    }
   ],
   "source": [
    "df['Label'].value_counts()"
   ]
  },
  {
   "cell_type": "markdown",
   "metadata": {},
   "source": [
    "# Final DataStructure"
   ]
  },
  {
   "cell_type": "code",
   "execution_count": 11,
   "metadata": {},
   "outputs": [],
   "source": [
    "X=df['Text'].tolist()\n",
    "y=df['Label'].tolist()"
   ]
  },
  {
   "cell_type": "markdown",
   "metadata": {},
   "source": [
    "# First splitting then using Data Frame"
   ]
  },
  {
   "cell_type": "code",
   "execution_count": null,
   "metadata": {},
   "outputs": [],
   "source": [
    "# from sklearn.model_selection import train_test_split\n",
    "# X_train, X_test, y_train, y_test = train_test_split(X, y,stratify=y,test_size=0.3, random_state=42)\n"
   ]
  },
  {
   "cell_type": "code",
   "execution_count": null,
   "metadata": {},
   "outputs": [],
   "source": [
    "# df_train = pd.DataFrame()\n",
    "# df_train['Text'] = X_train\n",
    "# df_train['Label'] = y_train"
   ]
  },
  {
   "cell_type": "code",
   "execution_count": null,
   "metadata": {},
   "outputs": [],
   "source": [
    "# df =df_train"
   ]
  },
  {
   "cell_type": "markdown",
   "metadata": {},
   "source": [
    "# Using Data Loader for Making Dataset Balanced"
   ]
  },
  {
   "cell_type": "code",
   "execution_count": 12,
   "metadata": {},
   "outputs": [],
   "source": [
    "from torch.utils.data import Dataset, DataLoader, random_split\n",
    "dataset_size = len(df)"
   ]
  },
  {
   "cell_type": "code",
   "execution_count": 13,
   "metadata": {},
   "outputs": [],
   "source": [
    "class PandasDataset(Dataset):\n",
    "    def __init__(self,dataframe):\n",
    "        self.dataframe = dataframe\n",
    "    def __len__(self):\n",
    "        return len(self.dataframe)\n",
    "    def __getitem__(self,index):\n",
    "        return self.dataframe.iloc[index]['Text'],self.dataframe.iloc[index]['Label']"
   ]
  },
  {
   "cell_type": "code",
   "execution_count": 14,
   "metadata": {},
   "outputs": [],
   "source": [
    "dataset = PandasDataset(df)"
   ]
  },
  {
   "cell_type": "code",
   "execution_count": 15,
   "metadata": {},
   "outputs": [],
   "source": [
    "import numpy as np "
   ]
  },
  {
   "cell_type": "code",
   "execution_count": 16,
   "metadata": {},
   "outputs": [],
   "source": [
    "dic = {}\n",
    "c=0\n",
    "for index, row in df.iterrows():\n",
    "    if row['Label'] not in dic:\n",
    "        dic[row['Label']]=c\n",
    "        c+=1"
   ]
  },
  {
   "cell_type": "code",
   "execution_count": 17,
   "metadata": {},
   "outputs": [],
   "source": [
    "#dic"
   ]
  },
  {
   "cell_type": "code",
   "execution_count": 18,
   "metadata": {},
   "outputs": [],
   "source": [
    "lis_=[]\n",
    "for index,row in df.iterrows():\n",
    "    lis_.append(dic[row['Label']])"
   ]
  },
  {
   "cell_type": "code",
   "execution_count": 19,
   "metadata": {},
   "outputs": [],
   "source": [
    "df['Labels']=lis_"
   ]
  },
  {
   "cell_type": "code",
   "execution_count": 20,
   "metadata": {},
   "outputs": [
    {
     "data": {
      "text/html": [
       "<div>\n",
       "<style scoped>\n",
       "    .dataframe tbody tr th:only-of-type {\n",
       "        vertical-align: middle;\n",
       "    }\n",
       "\n",
       "    .dataframe tbody tr th {\n",
       "        vertical-align: top;\n",
       "    }\n",
       "\n",
       "    .dataframe thead th {\n",
       "        text-align: right;\n",
       "    }\n",
       "</style>\n",
       "<table border=\"1\" class=\"dataframe\">\n",
       "  <thead>\n",
       "    <tr style=\"text-align: right;\">\n",
       "      <th></th>\n",
       "      <th>Label</th>\n",
       "      <th>Text</th>\n",
       "      <th>Labels</th>\n",
       "    </tr>\n",
       "  </thead>\n",
       "  <tbody>\n",
       "    <tr>\n",
       "      <th>0</th>\n",
       "      <td>FundAvailability</td>\n",
       "      <td>once i sell a portion of my roth how long will...</td>\n",
       "      <td>0</td>\n",
       "    </tr>\n",
       "    <tr>\n",
       "      <th>1</th>\n",
       "      <td>PensionLetter</td>\n",
       "      <td>pension verification letter</td>\n",
       "      <td>1</td>\n",
       "    </tr>\n",
       "    <tr>\n",
       "      <th>2</th>\n",
       "      <td>HowDoImakeAstockOrMutualFundTrade</td>\n",
       "      <td>ok so i select exchange</td>\n",
       "      <td>2</td>\n",
       "    </tr>\n",
       "    <tr>\n",
       "      <th>3</th>\n",
       "      <td>FidelityHours</td>\n",
       "      <td>saturday hours</td>\n",
       "      <td>3</td>\n",
       "    </tr>\n",
       "    <tr>\n",
       "      <th>4</th>\n",
       "      <td>ResearchInvestments</td>\n",
       "      <td>what companies grow cannabis</td>\n",
       "      <td>4</td>\n",
       "    </tr>\n",
       "    <tr>\n",
       "      <th>...</th>\n",
       "      <td>...</td>\n",
       "      <td>...</td>\n",
       "      <td>...</td>\n",
       "    </tr>\n",
       "    <tr>\n",
       "      <th>27722</th>\n",
       "      <td>UpdatePersonalInfo</td>\n",
       "      <td>i have changed my cell number and need to upda...</td>\n",
       "      <td>94</td>\n",
       "    </tr>\n",
       "    <tr>\n",
       "      <th>27723</th>\n",
       "      <td>TakeOutLoan</td>\n",
       "      <td>if i pay off my 401 k loan am i immediately el...</td>\n",
       "      <td>51</td>\n",
       "    </tr>\n",
       "    <tr>\n",
       "      <th>27724</th>\n",
       "      <td>StatementsViewOnline</td>\n",
       "      <td>how do i find year end statements for 2002 2006</td>\n",
       "      <td>18</td>\n",
       "    </tr>\n",
       "    <tr>\n",
       "      <th>27725</th>\n",
       "      <td>ContactFidelity</td>\n",
       "      <td>need to speak to representative</td>\n",
       "      <td>15</td>\n",
       "    </tr>\n",
       "    <tr>\n",
       "      <th>27726</th>\n",
       "      <td>AcctRoutingNum</td>\n",
       "      <td>fidelity aba number</td>\n",
       "      <td>33</td>\n",
       "    </tr>\n",
       "  </tbody>\n",
       "</table>\n",
       "<p>27727 rows × 3 columns</p>\n",
       "</div>"
      ],
      "text/plain": [
       "                                   Label  \\\n",
       "0                       FundAvailability   \n",
       "1                          PensionLetter   \n",
       "2      HowDoImakeAstockOrMutualFundTrade   \n",
       "3                          FidelityHours   \n",
       "4                    ResearchInvestments   \n",
       "...                                  ...   \n",
       "27722                 UpdatePersonalInfo   \n",
       "27723                        TakeOutLoan   \n",
       "27724               StatementsViewOnline   \n",
       "27725                    ContactFidelity   \n",
       "27726                     AcctRoutingNum   \n",
       "\n",
       "                                                    Text  Labels  \n",
       "0      once i sell a portion of my roth how long will...       0  \n",
       "1                            pension verification letter       1  \n",
       "2                                ok so i select exchange       2  \n",
       "3                                         saturday hours       3  \n",
       "4                           what companies grow cannabis       4  \n",
       "...                                                  ...     ...  \n",
       "27722  i have changed my cell number and need to upda...      94  \n",
       "27723  if i pay off my 401 k loan am i immediately el...      51  \n",
       "27724    how do i find year end statements for 2002 2006      18  \n",
       "27725                    need to speak to representative      15  \n",
       "27726                                fidelity aba number      33  \n",
       "\n",
       "[27727 rows x 3 columns]"
      ]
     },
     "execution_count": 20,
     "metadata": {},
     "output_type": "execute_result"
    }
   ],
   "source": [
    "df"
   ]
  },
  {
   "cell_type": "code",
   "execution_count": 21,
   "metadata": {},
   "outputs": [],
   "source": [
    "#Storing all labels of data frame into a list named as y_train\n",
    "y_train = [row['Labels'] for index, row in df.iterrows()]"
   ]
  },
  {
   "cell_type": "code",
   "execution_count": 22,
   "metadata": {},
   "outputs": [],
   "source": [
    "#Getting count of each label\n",
    "l=[]\n",
    "for t in np.unique(y_train):\n",
    "    c=0\n",
    "    for j in y_train:\n",
    "        if t == j:\n",
    "            c+=1\n",
    "    l.append(c)  "
   ]
  },
  {
   "cell_type": "code",
   "execution_count": 23,
   "metadata": {},
   "outputs": [],
   "source": [
    "class_sample_count = np.array([len(np.where(y_train == t)[0]) for t in np.unique(y_train)])"
   ]
  },
  {
   "cell_type": "code",
   "execution_count": 24,
   "metadata": {},
   "outputs": [],
   "source": [
    "weight = 1. / class_sample_count"
   ]
  },
  {
   "cell_type": "code",
   "execution_count": 25,
   "metadata": {},
   "outputs": [],
   "source": [
    "\n",
    "weight = 1. / class_sample_count\n",
    "#samples_weight = np.array([weight[v] for k,v in dic.items()])\n",
    "samples_weight = np.array([weight[t] for t in y_train])\n",
    "samples_weight = torch.from_numpy(samples_weight)"
   ]
  },
  {
   "cell_type": "code",
   "execution_count": 26,
   "metadata": {},
   "outputs": [],
   "source": [
    "from torch.utils.data.sampler import WeightedRandomSampler\n",
    "\n",
    "weighted_sampler = WeightedRandomSampler(\n",
    "    weights = samples_weight,\n",
    "    num_samples=5000,\n",
    "    replacement=True\n",
    ")"
   ]
  },
  {
   "cell_type": "code",
   "execution_count": 27,
   "metadata": {},
   "outputs": [],
   "source": [
    "dataloader = torch.utils.data.DataLoader(dataset, batch_size=4,sampler=weighted_sampler)"
   ]
  },
  {
   "cell_type": "code",
   "execution_count": 28,
   "metadata": {},
   "outputs": [
    {
     "name": "stdout",
     "output_type": "stream",
     "text": [
      "got\n"
     ]
    }
   ],
   "source": [
    "X=[]\n",
    "Y=[]\n",
    "it = iter(dataloader)\n",
    "#print(it)\n",
    "while True:\n",
    "    try:\n",
    "        x,y = next(it)\n",
    "        #print(x,y)\n",
    "        for item1,item2 in zip(x,y):\n",
    "            #print(item1)\n",
    "            X.append(item1)\n",
    "            Y.append(item2)\n",
    "    except StopIteration:\n",
    "        print(\"got\")\n",
    "        break"
   ]
  },
  {
   "cell_type": "code",
   "execution_count": 29,
   "metadata": {},
   "outputs": [],
   "source": [
    "dfs = pd.DataFrame()\n",
    "dfs['Text']=X\n",
    "dfs['Label']=Y"
   ]
  },
  {
   "cell_type": "code",
   "execution_count": 30,
   "metadata": {},
   "outputs": [],
   "source": [
    "X=dfs['Text'].tolist()\n",
    "y=dfs['Label'].tolist()"
   ]
  },
  {
   "cell_type": "code",
   "execution_count": null,
   "metadata": {},
   "outputs": [],
   "source": [
    "\n"
   ]
  },
  {
   "cell_type": "markdown",
   "metadata": {},
   "source": [
    "# Split Dataset "
   ]
  },
  {
   "cell_type": "code",
   "execution_count": 31,
   "metadata": {},
   "outputs": [],
   "source": [
    "from sklearn.model_selection import train_test_split\n",
    "X_train, X_test, y_train, y_test = train_test_split(X, y,stratify=y,test_size=0.3, random_state=42)"
   ]
  },
  {
   "cell_type": "code",
   "execution_count": 32,
   "metadata": {},
   "outputs": [],
   "source": [
    "df_train = pd.DataFrame()"
   ]
  },
  {
   "cell_type": "code",
   "execution_count": 33,
   "metadata": {},
   "outputs": [],
   "source": [
    "df_train['Text'] = X_train"
   ]
  },
  {
   "cell_type": "code",
   "execution_count": 34,
   "metadata": {},
   "outputs": [],
   "source": [
    "df_train['Label'] = y_train"
   ]
  },
  {
   "cell_type": "code",
   "execution_count": 35,
   "metadata": {},
   "outputs": [
    {
     "data": {
      "text/plain": [
       "BenePerStirpes                   27\n",
       "TaxesRetAcct                     27\n",
       "Medicare                         27\n",
       "ContactAnAdvisor                 26\n",
       "CobraQuestion                    25\n",
       "                                 ..\n",
       "IhaveAquestionAboutStateCodes    12\n",
       "RmdOverview                      11\n",
       "CaresWithdrawals                 10\n",
       "WithdrawalDueToDisability        10\n",
       "SecureMessageSend                 9\n",
       "Name: Label, Length: 190, dtype: int64"
      ]
     },
     "execution_count": 35,
     "metadata": {},
     "output_type": "execute_result"
    }
   ],
   "source": [
    "df_train['Label'].value_counts()"
   ]
  },
  {
   "cell_type": "code",
   "execution_count": 36,
   "metadata": {},
   "outputs": [
    {
     "data": {
      "text/plain": [
       "190"
      ]
     },
     "execution_count": 36,
     "metadata": {},
     "output_type": "execute_result"
    }
   ],
   "source": [
    "len(np.unique(df_train['Label']))"
   ]
  },
  {
   "cell_type": "code",
   "execution_count": 37,
   "metadata": {},
   "outputs": [
    {
     "data": {
      "text/plain": [
       "BenePerStirpes                   27\n",
       "TaxesRetAcct                     27\n",
       "Medicare                         27\n",
       "ContactAnAdvisor                 26\n",
       "CobraQuestion                    25\n",
       "                                 ..\n",
       "IhaveAquestionAboutStateCodes    12\n",
       "RmdOverview                      11\n",
       "CaresWithdrawals                 10\n",
       "WithdrawalDueToDisability        10\n",
       "SecureMessageSend                 9\n",
       "Name: Label, Length: 190, dtype: int64"
      ]
     },
     "execution_count": 37,
     "metadata": {},
     "output_type": "execute_result"
    }
   ],
   "source": [
    "df_train['Label'].value_counts()"
   ]
  },
  {
   "cell_type": "code",
   "execution_count": null,
   "metadata": {},
   "outputs": [],
   "source": [
    "#df_train.drop(df_train.index[df_train['Label'] == 'ElectiveContribution'], inplace=True)"
   ]
  },
  {
   "cell_type": "code",
   "execution_count": null,
   "metadata": {},
   "outputs": [],
   "source": [
    "\n",
    "\n",
    "#df_train.drop(df_train.index[df_train['Label'] == 'WithdrawalDueToDisability'], inplace=True)"
   ]
  },
  {
   "cell_type": "code",
   "execution_count": null,
   "metadata": {},
   "outputs": [],
   "source": [
    "#df_train['Label'].value_counts()"
   ]
  },
  {
   "cell_type": "code",
   "execution_count": null,
   "metadata": {},
   "outputs": [],
   "source": [
    "# X=df_train['Text'].tolist()\n",
    "# y=df_train['Label'].tolist()"
   ]
  },
  {
   "cell_type": "code",
   "execution_count": null,
   "metadata": {},
   "outputs": [],
   "source": [
    "# X_train, X_test, y_train, y_test = train_test_split(X, y,stratify=y,test_size=0.75, random_state=42)"
   ]
  },
  {
   "cell_type": "code",
   "execution_count": null,
   "metadata": {},
   "outputs": [],
   "source": [
    "# len(X_train)"
   ]
  },
  {
   "cell_type": "markdown",
   "metadata": {},
   "source": [
    "# Train Data frame Making"
   ]
  },
  {
   "cell_type": "code",
   "execution_count": 38,
   "metadata": {},
   "outputs": [],
   "source": [
    "df_train = pd.DataFrame()\n",
    "df_train['Text'] = X_train\n",
    "df_train['Label'] = y_train"
   ]
  },
  {
   "cell_type": "markdown",
   "metadata": {},
   "source": [
    "# Test Data frame Making"
   ]
  },
  {
   "cell_type": "code",
   "execution_count": 39,
   "metadata": {},
   "outputs": [],
   "source": [
    "df_test = pd.DataFrame()"
   ]
  },
  {
   "cell_type": "code",
   "execution_count": 40,
   "metadata": {},
   "outputs": [],
   "source": [
    "df_test['Text'] = X_test\n",
    "df_test['Label'] = y_test"
   ]
  },
  {
   "cell_type": "code",
   "execution_count": 41,
   "metadata": {},
   "outputs": [
    {
     "data": {
      "text/plain": [
       "3500"
      ]
     },
     "execution_count": 41,
     "metadata": {},
     "output_type": "execute_result"
    }
   ],
   "source": [
    "len(X_train) # Training Size"
   ]
  },
  {
   "cell_type": "code",
   "execution_count": 42,
   "metadata": {},
   "outputs": [
    {
     "data": {
      "text/plain": [
       "1500"
      ]
     },
     "execution_count": 42,
     "metadata": {},
     "output_type": "execute_result"
    }
   ],
   "source": [
    "len(X_test) # Test Size"
   ]
  },
  {
   "cell_type": "code",
   "execution_count": 43,
   "metadata": {},
   "outputs": [
    {
     "data": {
      "text/plain": [
       "190"
      ]
     },
     "execution_count": 43,
     "metadata": {},
     "output_type": "execute_result"
    }
   ],
   "source": [
    "len(np.unique(df_test['Label'])) #Number of Unique Labels in test data frame"
   ]
  },
  {
   "cell_type": "code",
   "execution_count": 44,
   "metadata": {},
   "outputs": [
    {
     "data": {
      "text/plain": [
       "BenePerStirpes            12\n",
       "TaxesRetAcct              12\n",
       "Medicare                  12\n",
       "TroubleWithWebsite        11\n",
       "FidelityMailingAddress    11\n",
       "                          ..\n",
       "PasswordStopSaving         5\n",
       "AcctClosure                5\n",
       "FsaTypes                   5\n",
       "CaresWithdrawals           4\n",
       "SecureMessageSend          4\n",
       "Name: Label, Length: 190, dtype: int64"
      ]
     },
     "execution_count": 44,
     "metadata": {},
     "output_type": "execute_result"
    }
   ],
   "source": [
    "df_test['Label'].value_counts()"
   ]
  },
  {
   "cell_type": "code",
   "execution_count": 45,
   "metadata": {},
   "outputs": [
    {
     "data": {
      "text/plain": [
       "BenePerStirpes            12\n",
       "TaxesRetAcct              12\n",
       "Medicare                  12\n",
       "TroubleWithWebsite        11\n",
       "FidelityMailingAddress    11\n",
       "                          ..\n",
       "PasswordStopSaving         5\n",
       "AcctClosure                5\n",
       "FsaTypes                   5\n",
       "CaresWithdrawals           4\n",
       "SecureMessageSend          4\n",
       "Name: Label, Length: 190, dtype: int64"
      ]
     },
     "execution_count": 45,
     "metadata": {},
     "output_type": "execute_result"
    }
   ],
   "source": [
    "df_test['Label'].value_counts()"
   ]
  },
  {
   "cell_type": "code",
   "execution_count": 46,
   "metadata": {},
   "outputs": [],
   "source": [
    "l=[]\n",
    "for i in range(len(X_train)):\n",
    "    l.append(1)\n",
    "for i in range(len(X_train),len(X)):\n",
    "    l.append(0)"
   ]
  },
  {
   "cell_type": "code",
   "execution_count": 47,
   "metadata": {},
   "outputs": [],
   "source": [
    "df = pd.concat([df_train,df_test],axis=0)"
   ]
  },
  {
   "cell_type": "code",
   "execution_count": 48,
   "metadata": {},
   "outputs": [],
   "source": [
    "df['train']=l"
   ]
  },
  {
   "cell_type": "code",
   "execution_count": 49,
   "metadata": {},
   "outputs": [
    {
     "data": {
      "text/plain": [
       "1    3500\n",
       "0    1500\n",
       "Name: train, dtype: int64"
      ]
     },
     "execution_count": 49,
     "metadata": {},
     "output_type": "execute_result"
    }
   ],
   "source": [
    "df['train'].value_counts()"
   ]
  },
  {
   "cell_type": "code",
   "execution_count": 50,
   "metadata": {},
   "outputs": [],
   "source": [
    "import pandas as pd\n",
    "train_sentences, train_labels, test_sentences, test_labels = [],[],[],[]\n",
    "\n",
    "def get_dataset():\n",
    "    sentences = df['Text'].tolist()\n",
    "    labels = df['Label'].tolist()\n",
    "    train_or_test = df['train'].tolist()\n",
    "\n",
    "    original_train_size, original_test_size = 0, 0\n",
    "    for i in range(len(train_or_test)):\n",
    "        if train_or_test[i] == 1:\n",
    "            train_sentences.append(sentences[i])\n",
    "            train_labels.append(labels[i])\n",
    "            original_train_size += 1\n",
    "        elif train_or_test[i] == 0:\n",
    "            test_sentences.append(sentences[i])\n",
    "            test_labels.append(labels[i])\n",
    "            original_test_size += 1\n",
    "            \n",
    "    #print(\"There are\",len(df),\"samples in\",df)\n",
    "    print(\"Original Training set size:\",original_train_size)\n",
    "    print(\"Original Test set size:\",original_test_size)"
   ]
  },
  {
   "cell_type": "code",
   "execution_count": 51,
   "metadata": {},
   "outputs": [],
   "source": [
    "import torch\n",
    "import torch.optim as optim\n",
    "import scipy.sparse as sp\n",
    "import torch.nn as nn\n",
    "from sklearn.metrics import classification_report"
   ]
  },
  {
   "cell_type": "code",
   "execution_count": 52,
   "metadata": {},
   "outputs": [
    {
     "name": "stdout",
     "output_type": "stream",
     "text": [
      "Original Training set size: 3500\n",
      "Original Test set size: 1500\n"
     ]
    }
   ],
   "source": [
    "get_dataset()"
   ]
  },
  {
   "cell_type": "code",
   "execution_count": 53,
   "metadata": {},
   "outputs": [
    {
     "data": {
      "text/plain": [
       "190"
      ]
     },
     "execution_count": 53,
     "metadata": {},
     "output_type": "execute_result"
    }
   ],
   "source": [
    "len(np.unique(train_labels))"
   ]
  },
  {
   "cell_type": "code",
   "execution_count": 54,
   "metadata": {},
   "outputs": [],
   "source": [
    "l_comb=train_labels+test_labels"
   ]
  },
  {
   "cell_type": "code",
   "execution_count": null,
   "metadata": {},
   "outputs": [],
   "source": [
    "#l_comb"
   ]
  },
  {
   "cell_type": "code",
   "execution_count": 55,
   "metadata": {},
   "outputs": [],
   "source": [
    "import torch\n",
    "import torch.optim as optim\n",
    "import scipy.sparse as sp\n",
    "import torch.nn as nn\n",
    "from sklearn.metrics import classification_report"
   ]
  },
  {
   "cell_type": "code",
   "execution_count": 56,
   "metadata": {},
   "outputs": [],
   "source": [
    "import numpy as np\n",
    "from sklearn.preprocessing import LabelEncoder\n",
    "from nltk.corpus import stopwords\n",
    "import nltk\n",
    "import re"
   ]
  },
  {
   "cell_type": "code",
   "execution_count": 57,
   "metadata": {},
   "outputs": [],
   "source": [
    "labels = encode_onehot(l_comb) # one hot vector for entire dataset representation"
   ]
  },
  {
   "cell_type": "code",
   "execution_count": null,
   "metadata": {},
   "outputs": [],
   "source": [
    "#labels"
   ]
  },
  {
   "cell_type": "code",
   "execution_count": 58,
   "metadata": {},
   "outputs": [
    {
     "data": {
      "text/plain": [
       "BenePerStirpes                   39\n",
       "TaxesRetAcct                     39\n",
       "Medicare                         39\n",
       "ContactAnAdvisor                 37\n",
       "PasswordRequirements             36\n",
       "                                 ..\n",
       "IhaveAquestionAboutStateCodes    17\n",
       "RmdOverview                      16\n",
       "WithdrawalDueToDisability        15\n",
       "CaresWithdrawals                 14\n",
       "SecureMessageSend                13\n",
       "Name: Label, Length: 190, dtype: int64"
      ]
     },
     "execution_count": 58,
     "metadata": {},
     "output_type": "execute_result"
    }
   ],
   "source": [
    "df['Label'].value_counts()"
   ]
  },
  {
   "cell_type": "code",
   "execution_count": 59,
   "metadata": {},
   "outputs": [
    {
     "data": {
      "text/html": [
       "<div>\n",
       "<style scoped>\n",
       "    .dataframe tbody tr th:only-of-type {\n",
       "        vertical-align: middle;\n",
       "    }\n",
       "\n",
       "    .dataframe tbody tr th {\n",
       "        vertical-align: top;\n",
       "    }\n",
       "\n",
       "    .dataframe thead th {\n",
       "        text-align: right;\n",
       "    }\n",
       "</style>\n",
       "<table border=\"1\" class=\"dataframe\">\n",
       "  <thead>\n",
       "    <tr style=\"text-align: right;\">\n",
       "      <th></th>\n",
       "      <th>Text</th>\n",
       "      <th>Label</th>\n",
       "      <th>train</th>\n",
       "    </tr>\n",
       "  </thead>\n",
       "  <tbody>\n",
       "    <tr>\n",
       "      <th>0</th>\n",
       "      <td>how do i update reinvest dividends and capital...</td>\n",
       "      <td>DripUpdate</td>\n",
       "      <td>1</td>\n",
       "    </tr>\n",
       "    <tr>\n",
       "      <th>1</th>\n",
       "      <td>why did i not receive a form 5498 for</td>\n",
       "      <td>TaxFormDidntReceive</td>\n",
       "      <td>1</td>\n",
       "    </tr>\n",
       "    <tr>\n",
       "      <th>2</th>\n",
       "      <td>mobile access</td>\n",
       "      <td>MobilePhoneNumber</td>\n",
       "      <td>1</td>\n",
       "    </tr>\n",
       "    <tr>\n",
       "      <th>3</th>\n",
       "      <td>why isn't there an area marked tax forms</td>\n",
       "      <td>Taxforms</td>\n",
       "      <td>1</td>\n",
       "    </tr>\n",
       "    <tr>\n",
       "      <th>4</th>\n",
       "      <td>how do i re balance my portfolio</td>\n",
       "      <td>RebalancePortfolio</td>\n",
       "      <td>1</td>\n",
       "    </tr>\n",
       "    <tr>\n",
       "      <th>...</th>\n",
       "      <td>...</td>\n",
       "      <td>...</td>\n",
       "      <td>...</td>\n",
       "    </tr>\n",
       "    <tr>\n",
       "      <th>1495</th>\n",
       "      <td>where i have to upload a picture of my documen...</td>\n",
       "      <td>SecureMessageSend</td>\n",
       "      <td>0</td>\n",
       "    </tr>\n",
       "    <tr>\n",
       "      <th>1496</th>\n",
       "      <td>ipad version of fidelity different</td>\n",
       "      <td>MobileApp</td>\n",
       "      <td>0</td>\n",
       "    </tr>\n",
       "    <tr>\n",
       "      <th>1497</th>\n",
       "      <td>where do i find the options referred to in the...</td>\n",
       "      <td>FullView</td>\n",
       "      <td>0</td>\n",
       "    </tr>\n",
       "    <tr>\n",
       "      <th>1498</th>\n",
       "      <td>how much in taxes will it cost me to convert t...</td>\n",
       "      <td>RothConversionOverview</td>\n",
       "      <td>0</td>\n",
       "    </tr>\n",
       "    <tr>\n",
       "      <th>1499</th>\n",
       "      <td>does the secure act affect my rmd</td>\n",
       "      <td>SecureAct</td>\n",
       "      <td>0</td>\n",
       "    </tr>\n",
       "  </tbody>\n",
       "</table>\n",
       "<p>5000 rows × 3 columns</p>\n",
       "</div>"
      ],
      "text/plain": [
       "                                                   Text  \\\n",
       "0     how do i update reinvest dividends and capital...   \n",
       "1                 why did i not receive a form 5498 for   \n",
       "2                                         mobile access   \n",
       "3              why isn't there an area marked tax forms   \n",
       "4                      how do i re balance my portfolio   \n",
       "...                                                 ...   \n",
       "1495  where i have to upload a picture of my documen...   \n",
       "1496                 ipad version of fidelity different   \n",
       "1497  where do i find the options referred to in the...   \n",
       "1498  how much in taxes will it cost me to convert t...   \n",
       "1499                  does the secure act affect my rmd   \n",
       "\n",
       "                       Label  train  \n",
       "0                 DripUpdate      1  \n",
       "1        TaxFormDidntReceive      1  \n",
       "2          MobilePhoneNumber      1  \n",
       "3                   Taxforms      1  \n",
       "4         RebalancePortfolio      1  \n",
       "...                      ...    ...  \n",
       "1495       SecureMessageSend      0  \n",
       "1496               MobileApp      0  \n",
       "1497                FullView      0  \n",
       "1498  RothConversionOverview      0  \n",
       "1499               SecureAct      0  \n",
       "\n",
       "[5000 rows x 3 columns]"
      ]
     },
     "execution_count": 59,
     "metadata": {},
     "output_type": "execute_result"
    }
   ],
   "source": [
    "df"
   ]
  },
  {
   "cell_type": "markdown",
   "metadata": {},
   "source": [
    "# Adj and feature preparation from dummy examples"
   ]
  },
  {
   "cell_type": "code",
   "execution_count": 60,
   "metadata": {},
   "outputs": [],
   "source": [
    "import torch\n",
    "import torch.optim as optim\n",
    "import scipy.sparse as sp\n",
    "import torch.nn as nn\n",
    "from sklearn.metrics import classification_report"
   ]
  },
  {
   "cell_type": "code",
   "execution_count": 61,
   "metadata": {},
   "outputs": [],
   "source": [
    "import numpy as np\n",
    "from sklearn.preprocessing import LabelEncoder\n",
    "from nltk.corpus import stopwords\n",
    "import nltk\n",
    "import re"
   ]
  },
  {
   "cell_type": "code",
   "execution_count": 62,
   "metadata": {},
   "outputs": [],
   "source": [
    "labels,d = encode_onehot(l_comb) # one hot vector for entire dataset representation "
   ]
  },
  {
   "cell_type": "code",
   "execution_count": 63,
   "metadata": {},
   "outputs": [
    {
     "data": {
      "text/plain": [
       "(5000, 190)"
      ]
     },
     "execution_count": 63,
     "metadata": {},
     "output_type": "execute_result"
    }
   ],
   "source": [
    "labels.shape"
   ]
  },
  {
   "cell_type": "markdown",
   "metadata": {},
   "source": [
    "# Preparing Adj and feature matrix accordance with GAT"
   ]
  },
  {
   "cell_type": "code",
   "execution_count": 64,
   "metadata": {},
   "outputs": [],
   "source": [
    "def preprocess_data(original_train_sentences, original_test_sentences):\n",
    "    #nltk.download('stopwords')\n",
    "    #stop_words = set(stopwords.words('english'))\n",
    "    original_word_freq = {}  # to remove rare words\n",
    "    for sentence in original_train_sentences:\n",
    "        #temp = clean_str(sentence)\n",
    "        temp = sentence\n",
    "        word_list = temp.split()\n",
    "        for word in word_list:\n",
    "            if word in original_word_freq:\n",
    "                original_word_freq[word] += 1\n",
    "            else:\n",
    "                original_word_freq[word] = 1   \n",
    "\n",
    "    sentences = original_train_sentences + original_test_sentences\n",
    "    #print(sentences)\n",
    "    tokenize_sentences = []\n",
    "    word_list_dict = {}\n",
    "    for sentence in sentences:\n",
    "        #temp = clean_str(sentence)\n",
    "        temp = sentence\n",
    "        word_list_temp = temp.split()\n",
    "        doc_words = []\n",
    "        for word in word_list_temp:\n",
    "            #and word not in stop_words\n",
    "            if word in original_word_freq:\n",
    "                doc_words.append(word) # wo word company haijo test and train pr common word hai\n",
    "                word_list_dict[word] = 1\n",
    "        #print(doc_words)        \n",
    "        tokenize_sentences.append(doc_words) # doc words jo list hai usko append kr rha hu\n",
    "    word_list = list(word_list_dict.keys())\n",
    "    #print(\"tokenize sentences\",tokenize_sentences)\n",
    "    #print(word_list)\n",
    "\n",
    "    len_list = [len(l) for l in tokenize_sentences[:len(original_train_sentences)]]\n",
    "    print(\"Average Length:\", sum(len_list)/len(len_list))  \n",
    "    return tokenize_sentences, word_list"
   ]
  },
  {
   "cell_type": "code",
   "execution_count": 65,
   "metadata": {},
   "outputs": [
    {
     "name": "stdout",
     "output_type": "stream",
     "text": [
      "Average Length: 7.8262857142857145\n",
      "There are : 1968 unique words in total.\n"
     ]
    }
   ],
   "source": [
    "tokenize_sentences, word_list = preprocess_data(train_sentences, test_sentences)\n",
    "vocab_length = len(word_list)\n",
    "word_id_map = {}\n",
    "for i in range(vocab_length):\n",
    "    word_id_map[word_list[i]] = i\n",
    "#if not args.easy_copy:\n",
    "print(\"There are :\", vocab_length, \"unique words in total.\")"
   ]
  },
  {
   "cell_type": "code",
   "execution_count": 66,
   "metadata": {},
   "outputs": [],
   "source": [
    "from tqdm.auto import tqdm\n",
    "import scipy.sparse as sp\n",
    "from math import log\n",
    "import numpy as np\n",
    "\n",
    "\n",
    "def ordered_word_pair(a, b):\n",
    "    #print(a,b)\n",
    "    if a > b:\n",
    "        return b, a\n",
    "    else:\n",
    "        return a, b\n",
    "\n",
    "def get_adj(tokenize_sentences,train_size,word_id_map,word_list):\n",
    "    window_size = 20\n",
    "    total_W = 0\n",
    "    word_occurrence = {}\n",
    "    word_pair_occurrence = {}\n",
    "\n",
    "    node_size = train_size + len(word_list) #11 + 3\n",
    "    #print(\"node_size :\",node_size)\n",
    "    vocab_length = len(word_list)\n",
    "    #print(\"vocab_length :\",vocab_length) #11\n",
    "\n",
    "    def update_word_and_word_pair_occurrence(q):\n",
    "        #print(\"q :\",q)\n",
    "        unique_q = list(set(q))\n",
    "        for i in unique_q:\n",
    "            try:\n",
    "                word_occurrence[i] += 1\n",
    "            except:\n",
    "                word_occurrence[i] = 1\n",
    "        for i in range(len(unique_q)):\n",
    "            for j in range(i+1, len(unique_q)):\n",
    "                word1 = unique_q[i]\n",
    "                word2 = unique_q[j]\n",
    "                word1, word2 = ordered_word_pair(word1, word2)\n",
    "                try:\n",
    "                    word_pair_occurrence[(word1, word2)] += 1\n",
    "                except:\n",
    "                    word_pair_occurrence[(word1, word2)] = 1\n",
    "                    \n",
    "    for ind in range(train_size):\n",
    "        #print(\"iteration over training set :\",ind)\n",
    "        words = tokenize_sentences[ind]\n",
    "        #print(\"words :\",words)\n",
    "        q = []\n",
    "        for i in range(min(window_size, len(words))):\n",
    "            q += [word_id_map[words[i]]]\n",
    "            #print(\"q\",q)\n",
    "        total_W += 1\n",
    "        #print(\"total_W :\",total_W)\n",
    "        update_word_and_word_pair_occurrence(q)\n",
    "        now_next_word_index = window_size\n",
    "        #print(now_next_word_index)\n",
    "        while now_next_word_index<len(words):\n",
    "            q.pop(0)\n",
    "            q += [word_id_map[words[now_next_word_index]]]\n",
    "            now_next_word_index += 1\n",
    "            total_W += 1\n",
    "            update_word_and_word_pair_occurrence(q)\n",
    "    #print(len(word_pair_occurrence))\n",
    "    row = []\n",
    "    col = []\n",
    "    weight = []\n",
    "    for word_pair in word_pair_occurrence:\n",
    "        i = word_pair[0]\n",
    "        j = word_pair[1]\n",
    "        #print(\"word pair :\",i,j)\n",
    "        count = word_pair_occurrence[word_pair]\n",
    "        word_freq_i = word_occurrence[i]\n",
    "        word_freq_j = word_occurrence[j]\n",
    "        pmi = log((count * total_W) / (word_freq_i * word_freq_j)) \n",
    "        if pmi <=0:\n",
    "            continue\n",
    "        row.append(train_size + i)\n",
    "        col.append(train_size + j)\n",
    "        weight.append(pmi)\n",
    "        row.append(train_size + j)\n",
    "        col.append(train_size + i)\n",
    "        weight.append(pmi)\n",
    "    #print(\"Rows are \",row)\n",
    "    #print(\"Cols are \",col)\n",
    "\n",
    "\n",
    "    #print(\"weight :\",len(weight))\n",
    "    #print(\"row:\",len(row))\n",
    "    #print(\"col:\",col)\n",
    "    word_doc_list = {}\n",
    "    for word in word_list:\n",
    "        word_doc_list[word]=[]\n",
    "    #print(\"word_doc_list\",word_doc_list)\n",
    "    for i in range(train_size):\n",
    "        doc_words = tokenize_sentences[i]\n",
    "        #print(\"doc_words :\",doc_words)\n",
    "        unique_words = set(doc_words)\n",
    "        for word in unique_words:\n",
    "            exsit_list = word_doc_list[word]\n",
    "            exsit_list.append(i)\n",
    "            word_doc_list[word] = exsit_list\n",
    "            #print(\"word_doc_list\",word_doc_list)\n",
    "    word_doc_freq = {}\n",
    "    for word, doc_list in word_doc_list.items():\n",
    "        word_doc_freq[word] = len(doc_list)\n",
    "    #print(\"word_doc_freq :\",word_doc_freq)\n",
    "    doc_word_freq = {}\n",
    "\n",
    "    for doc_id in range(train_size):\n",
    "        words = tokenize_sentences[doc_id]\n",
    "        for word in words:\n",
    "            word_id = word_id_map[word]\n",
    "            doc_word_str = str(doc_id) + ',' + str(word_id)\n",
    "            if doc_word_str in doc_word_freq:\n",
    "                doc_word_freq[doc_word_str] += 1\n",
    "            else:\n",
    "                doc_word_freq[doc_word_str] = 1\n",
    "    #print(\"doc_word_freq :\",doc_word_freq)\n",
    "\n",
    "    doc_emb = np.zeros((train_size, vocab_length))\n",
    "\n",
    "    for i in range(train_size):\n",
    "        words = tokenize_sentences[i]\n",
    "        doc_word_set = set()\n",
    "        for word in words:\n",
    "            if word in doc_word_set:\n",
    "                continue\n",
    "            j = word_id_map[word]\n",
    "            key = str(i) + ',' + str(j)\n",
    "            freq = doc_word_freq[key]\n",
    "            row.append(i)\n",
    "            col.append(train_size + j)\n",
    "            idf = log(1.0 * train_size / word_doc_freq[word_list[j]])\n",
    "            w = freq * idf\n",
    "            weight.append(w)\n",
    "            #print(\"weight :\",weight)\n",
    "            doc_word_set.add(word)\n",
    "            doc_emb[i][j] = w/len(words)   \n",
    "            #print(doc_emb)\n",
    "        #print(len(doc_emb))\n",
    "    #print(len(wgt))\n",
    "    #wgt = weight \n",
    "    #print(weight)\n",
    "    adj = sp.csr_matrix((weight, (row, col)), shape=(node_size, node_size))\n",
    "    adj = adj + adj.T.multiply(adj.T > adj) - adj.multiply(adj.T > adj)  \n",
    "    #print(\"adj\",adj)\n",
    "    return adj, doc_emb, word_doc_freq     \n"
   ]
  },
  {
   "cell_type": "code",
   "execution_count": 67,
   "metadata": {},
   "outputs": [],
   "source": [
    "# Generate Graph\n",
    "adj, doc_emb, word_doc_freq = get_adj(tokenize_sentences,len(train_sentences)+len(test_sentences),word_id_map,word_list)"
   ]
  },
  {
   "cell_type": "code",
   "execution_count": 68,
   "metadata": {},
   "outputs": [
    {
     "data": {
      "text/plain": [
       "(6968, 6968)"
      ]
     },
     "execution_count": 68,
     "metadata": {},
     "output_type": "execute_result"
    }
   ],
   "source": [
    "adj.shape"
   ]
  },
  {
   "cell_type": "code",
   "execution_count": 69,
   "metadata": {},
   "outputs": [
    {
     "data": {
      "text/plain": [
       "(5000, 1968)"
      ]
     },
     "execution_count": 69,
     "metadata": {},
     "output_type": "execute_result"
    }
   ],
   "source": [
    "doc_emb.shape"
   ]
  },
  {
   "cell_type": "code",
   "execution_count": 70,
   "metadata": {},
   "outputs": [],
   "source": [
    "def normalize_adj(adj):\n",
    "    \"\"\"Symmetrically normalize adjacency matrix.\"\"\"\n",
    "    adj = sp.coo_matrix(adj)\n",
    "    rowsum = np.array(adj.sum(1))\n",
    "    d_inv_sqrt = np.power(rowsum, -0.5).flatten()\n",
    "    d_inv_sqrt[np.isinf(d_inv_sqrt)] = 0.\n",
    "    d_mat_inv_sqrt = sp.diags(d_inv_sqrt)\n",
    "    return adj.dot(d_mat_inv_sqrt).transpose().dot(d_mat_inv_sqrt).tocoo(), d_inv_sqrt"
   ]
  },
  {
   "cell_type": "code",
   "execution_count": 71,
   "metadata": {},
   "outputs": [],
   "source": [
    "adj, norm_item = normalize_adj(adj + sp.eye(adj.shape[0]))"
   ]
  },
  {
   "cell_type": "code",
   "execution_count": null,
   "metadata": {},
   "outputs": [],
   "source": [
    "#adj = torch.FloatTensor(np.array(adj.todense())) #dense adjecency matric needed not sparse\n",
    "#features = torch.FloatTensor(np.array(features.todense()))"
   ]
  },
  {
   "cell_type": "code",
   "execution_count": null,
   "metadata": {},
   "outputs": [],
   "source": [
    "type(adj)"
   ]
  },
  {
   "cell_type": "code",
   "execution_count": 72,
   "metadata": {},
   "outputs": [],
   "source": [
    "coo=adj\n",
    "row = torch.from_numpy(coo.row.astype(np.int64)).to(torch.long)\n",
    "col = torch.from_numpy(coo.col.astype(np.int64)).to(torch.long)\n",
    "edge_index = torch.stack([row, col], dim=0)\n",
    "\n",
    "#Presuming values are floats, can use np.int64 for dtype=int8\n",
    "val = torch.from_numpy(coo.data.astype(np.float64)).to(torch.float)\n",
    "\n",
    "out = torch.sparse.FloatTensor(edge_index, val, torch.Size(coo.shape)).to_dense() "
   ]
  },
  {
   "cell_type": "code",
   "execution_count": 73,
   "metadata": {},
   "outputs": [
    {
     "data": {
      "text/plain": [
       "torch.Size([6968, 6968])"
      ]
     },
     "execution_count": 73,
     "metadata": {},
     "output_type": "execute_result"
    }
   ],
   "source": [
    "out.shape"
   ]
  },
  {
   "cell_type": "code",
   "execution_count": 74,
   "metadata": {},
   "outputs": [],
   "source": [
    "adj=out"
   ]
  },
  {
   "cell_type": "code",
   "execution_count": 75,
   "metadata": {},
   "outputs": [
    {
     "data": {
      "text/plain": [
       "1968"
      ]
     },
     "execution_count": 75,
     "metadata": {},
     "output_type": "execute_result"
    }
   ],
   "source": [
    "adj.shape[0] - doc_emb.shape[0]"
   ]
  },
  {
   "cell_type": "code",
   "execution_count": 76,
   "metadata": {},
   "outputs": [
    {
     "data": {
      "text/plain": [
       "(5000, 1968)"
      ]
     },
     "execution_count": 76,
     "metadata": {},
     "output_type": "execute_result"
    }
   ],
   "source": [
    "doc_emb.shape"
   ]
  },
  {
   "cell_type": "code",
   "execution_count": null,
   "metadata": {},
   "outputs": [],
   "source": [
    "#13200 - 10500"
   ]
  },
  {
   "cell_type": "code",
   "execution_count": 77,
   "metadata": {},
   "outputs": [],
   "source": [
    "import torch\n",
    "from torch.nn.parameter import Parameter\n",
    "from torch.nn.modules.module import Module\n",
    "import torch.nn as nn\n",
    "# weight = Parameter(torch.FloatTensor(2740, 2740))"
   ]
  },
  {
   "cell_type": "code",
   "execution_count": null,
   "metadata": {},
   "outputs": [],
   "source": [
    "# support1 = torch.mm(torch.Tensor(doc_emb), weight)#(10500, 2740)*(2740 * 2740) = 10500*2740\n",
    "# support2 = weight #(2740 * 2740)\n",
    "# support = torch.vstack((support1,support2))#10500*2740+2740*2740 = 13200*2740\n",
    "# #support = dropout(support)"
   ]
  },
  {
   "cell_type": "code",
   "execution_count": null,
   "metadata": {},
   "outputs": [],
   "source": [
    "# support.shape"
   ]
  },
  {
   "cell_type": "code",
   "execution_count": null,
   "metadata": {},
   "outputs": [],
   "source": []
  },
  {
   "cell_type": "code",
   "execution_count": null,
   "metadata": {},
   "outputs": [],
   "source": [
    "# Addition to previous Induct-Text GCN\n",
    "# l=[]\n",
    "# def Identity(size):\n",
    "#     for row in range(0, size):\n",
    "#         l1=[]\n",
    "#         for col in range(0, size):\n",
    "#             if (row == col):\n",
    "#                 l1.append(1)\n",
    "#             else:\n",
    "#                 l1.append(0)\n",
    "#         l.append((l1))\n",
    " \n",
    "# # Driver Code       \n",
    "# size = adj.shape[0] - doc_emb.shape[0]\n",
    "# Identity(size)\n",
    "    "
   ]
  },
  {
   "cell_type": "code",
   "execution_count": null,
   "metadata": {},
   "outputs": [],
   "source": [
    "# d = doc_emb"
   ]
  },
  {
   "cell_type": "code",
   "execution_count": null,
   "metadata": {},
   "outputs": [],
   "source": [
    "#d=np.concatenate((d, np.array(l)), axis=0)"
   ]
  },
  {
   "cell_type": "code",
   "execution_count": null,
   "metadata": {},
   "outputs": [],
   "source": [
    "#doc_emb = d"
   ]
  },
  {
   "cell_type": "code",
   "execution_count": 78,
   "metadata": {},
   "outputs": [],
   "source": [
    "features = torch.FloatTensor(doc_emb)"
   ]
  },
  {
   "cell_type": "code",
   "execution_count": 79,
   "metadata": {},
   "outputs": [
    {
     "data": {
      "text/plain": [
       "torch.Size([5000, 1968])"
      ]
     },
     "execution_count": 79,
     "metadata": {},
     "output_type": "execute_result"
    }
   ],
   "source": [
    "features.shape"
   ]
  },
  {
   "cell_type": "code",
   "execution_count": 80,
   "metadata": {},
   "outputs": [],
   "source": [
    "labels = torch.LongTensor(np.where(labels)[1])"
   ]
  },
  {
   "cell_type": "code",
   "execution_count": 81,
   "metadata": {},
   "outputs": [
    {
     "data": {
      "text/plain": [
       "tensor([ 47, 159, 102,  ...,  64, 135, 140])"
      ]
     },
     "execution_count": 81,
     "metadata": {},
     "output_type": "execute_result"
    }
   ],
   "source": [
    "labels"
   ]
  },
  {
   "cell_type": "code",
   "execution_count": null,
   "metadata": {},
   "outputs": [],
   "source": [
    "#features = support"
   ]
  },
  {
   "cell_type": "code",
   "execution_count": 82,
   "metadata": {},
   "outputs": [
    {
     "data": {
      "text/plain": [
       "(torch.Size([5000, 1968]), torch.Size([6968, 6968]), torch.Size([5000]))"
      ]
     },
     "execution_count": 82,
     "metadata": {},
     "output_type": "execute_result"
    }
   ],
   "source": [
    "features.shape,adj.shape,labels.shape"
   ]
  },
  {
   "cell_type": "code",
   "execution_count": null,
   "metadata": {},
   "outputs": [],
   "source": [
    "len(X)"
   ]
  },
  {
   "cell_type": "code",
   "execution_count": null,
   "metadata": {},
   "outputs": [],
   "source": [
    "len(X_train)"
   ]
  },
  {
   "cell_type": "markdown",
   "metadata": {},
   "source": [
    "# Train and val"
   ]
  },
  {
   "cell_type": "code",
   "execution_count": 83,
   "metadata": {},
   "outputs": [],
   "source": [
    "train_size = len(X_train)"
   ]
  },
  {
   "cell_type": "code",
   "execution_count": 84,
   "metadata": {},
   "outputs": [],
   "source": [
    "def generate_train_val(train_size, train_pro=0.9):\n",
    "    real_train_size = int(train_pro*train_size)\n",
    "    val_size = train_size-real_train_size\n",
    "\n",
    "    #if args.shuffle_seed!=None:\n",
    "    #     np.random.seed()\n",
    "    idx_train = np.random.choice(train_size, real_train_size,replace=False)\n",
    "    idx_train.sort()\n",
    "    idx_val = []\n",
    "    pointer = 0\n",
    "    for v in range(train_size):\n",
    "        if pointer<len(idx_train) and idx_train[pointer] == v:\n",
    "            pointer +=1\n",
    "        else:\n",
    "            #print(v)\n",
    "            idx_val.append(v)\n",
    "    return idx_train, idx_val"
   ]
  },
  {
   "cell_type": "code",
   "execution_count": 85,
   "metadata": {},
   "outputs": [],
   "source": [
    "# Generate train/val dataset\n",
    "idx_train, idx_val = generate_train_val(train_size)"
   ]
  },
  {
   "cell_type": "code",
   "execution_count": 86,
   "metadata": {},
   "outputs": [],
   "source": [
    "#Pre-defining train test split for dummy data\n",
    "#idx_train = list(range(len(X_train)-800))\n",
    "#idx_val = list(range(len(X_train)-800, len(X_train)))\n",
    "idx_test = list(range(len(X_train),len(X)))\n",
    "#print(\"index of train\",idx_train)"
   ]
  },
  {
   "cell_type": "code",
   "execution_count": 87,
   "metadata": {},
   "outputs": [],
   "source": [
    "idx_train = torch.LongTensor(idx_train)\n",
    "idx_val = torch.LongTensor(idx_val)\n",
    "idx_test = torch.LongTensor(idx_test)"
   ]
  },
  {
   "cell_type": "code",
   "execution_count": 88,
   "metadata": {},
   "outputs": [
    {
     "data": {
      "text/plain": [
       "tensor([3500, 3501, 3502,  ..., 4997, 4998, 4999])"
      ]
     },
     "execution_count": 88,
     "metadata": {},
     "output_type": "execute_result"
    }
   ],
   "source": [
    "idx_test"
   ]
  },
  {
   "cell_type": "code",
   "execution_count": 89,
   "metadata": {},
   "outputs": [
    {
     "data": {
      "text/plain": [
       "1968"
      ]
     },
     "execution_count": 89,
     "metadata": {},
     "output_type": "execute_result"
    }
   ],
   "source": [
    "features.shape[1] # Vocab size"
   ]
  },
  {
   "cell_type": "code",
   "execution_count": 92,
   "metadata": {},
   "outputs": [
    {
     "data": {
      "text/plain": [
       "5000"
      ]
     },
     "execution_count": 92,
     "metadata": {},
     "output_type": "execute_result"
    }
   ],
   "source": [
    "len(labels)"
   ]
  },
  {
   "cell_type": "code",
   "execution_count": 91,
   "metadata": {},
   "outputs": [
    {
     "data": {
      "text/plain": [
       "3150"
      ]
     },
     "execution_count": 91,
     "metadata": {},
     "output_type": "execute_result"
    }
   ],
   "source": [
    "len(idx_train)"
   ]
  },
  {
   "cell_type": "markdown",
   "metadata": {},
   "source": [
    "# Layer Code"
   ]
  },
  {
   "cell_type": "code",
   "execution_count": 122,
   "metadata": {},
   "outputs": [
    {
     "name": "stdout",
     "output_type": "stream",
     "text": [
      "GraphAttentionLayer\n"
     ]
    }
   ],
   "source": [
    "import numpy as np\n",
    "import torch\n",
    "import torch.nn as nn\n",
    "import torch.nn.functional as F\n",
    "\n",
    "\n",
    "class GraphAttentionLayer(nn.Module):\n",
    "    \"\"\"\n",
    "    Simple GAT layer, similar to https://arxiv.org/abs/1710.10903\n",
    "    \"\"\"\n",
    "    print(\"GraphAttentionLayer\")\n",
    "    def __init__(self, in_features, out_features, dropout, alpha, concat=True):\n",
    "        super(GraphAttentionLayer, self).__init__()\n",
    "        self.dropout = dropout\n",
    "        self.in_features = in_features\n",
    "        self.out_features = out_features\n",
    "        self.alpha = alpha\n",
    "        self.concat = concat\n",
    "\n",
    "        self.W = nn.Parameter(torch.empty(size=(in_features, out_features)))\n",
    "        nn.init.xavier_uniform_(self.W.data, gain=1.414)\n",
    "        self.a = nn.Parameter(torch.empty(size=(2*out_features, 1)))\n",
    "        nn.init.xavier_uniform_(self.a.data, gain=1.414)\n",
    "        self.leakyrelu = nn.LeakyReLU(self.alpha)\n",
    "\n",
    "    def forward(self, h, adj):\n",
    "        Wh = torch.mm(h, self.W) # h.shape: (N, in_features), Wh.shape: (N, out_features)#10*16\n",
    "        support1 = Wh\n",
    "        if self.concat:\n",
    "            support2 = self.W\n",
    "            support = torch.vstack((support1,support2))\n",
    "            #support = self.dropout(support)\n",
    "            support = F.dropout(support, self.dropout, training=self.training)\n",
    "            Wh = support\n",
    "        e = self._prepare_attentional_mechanism_input(Wh)\n",
    "        #print(\"E \",e.shape)\n",
    "        zero_vec = -9e15*torch.ones_like(e)\n",
    "        #print(\"Adj shape\",adj.shape)\n",
    "        attention = torch.where(adj > 0, e, zero_vec)\n",
    "        attention = F.softmax(attention, dim=1)\n",
    "        attention = F.dropout(attention, self.dropout, training=self.training)\n",
    "        h_prime = torch.matmul(attention, Wh)#10*10 * 10*16=10*16\n",
    "\n",
    "        if self.concat:\n",
    "            return F.elu(h_prime)\n",
    "        else:\n",
    "            return h_prime\n",
    "\n",
    "    def _prepare_attentional_mechanism_input(self, Wh):\n",
    "        # Wh.shape (N, out_feature)\n",
    "        # self.a.shape (2 * out_feature, 1)\n",
    "        # Wh1&2.shape (N, 1)\n",
    "        # e.shape (N, N)\n",
    "        #print(\"Inside prepare_attention_mechanism_calculation\",self.out_features)\n",
    "        #print(\"a shape with out feature self.a[:self.out_features, :]\",self.a[:self.out_features, :].shape)\n",
    "        #print(\"a shape with self.a[self.out_features:, :]\",self.a[self.out_features:, :].shape)\n",
    "        Wh1 = torch.matmul(Wh, self.a[:self.out_features, :])\n",
    "        Wh2 = torch.matmul(Wh, self.a[self.out_features:, :])\n",
    "        # broadcast add\n",
    "        e = Wh1 + Wh2.T\n",
    "        return self.leakyrelu(e)\n",
    "\n",
    "    def __repr__(self):\n",
    "        return self.__class__.__name__ + ' (' + str(self.in_features) + ' -> ' + str(self.out_features) + ')'\n"
   ]
  },
  {
   "cell_type": "markdown",
   "metadata": {},
   "source": [
    "# Model Code"
   ]
  },
  {
   "cell_type": "code",
   "execution_count": 123,
   "metadata": {},
   "outputs": [],
   "source": [
    "import torch\n",
    "import torch.nn as nn\n",
    "import torch.nn.functional as F\n",
    "\n",
    "class GAT(nn.Module):\n",
    "    def __init__(self, nfeat, nhid, nclass, dropout, alpha, nheads):\n",
    "        \"\"\"Dense version of GAT.\"\"\"\n",
    "        super(GAT, self).__init__()\n",
    "        self.dropout = dropout\n",
    "        self.attentions = [GraphAttentionLayer(nfeat, nhid, dropout=dropout, alpha=alpha, concat=True) for _ in range(nheads)]\n",
    "        for i, attention in enumerate(self.attentions):\n",
    "            self.add_module('attention_{}'.format(i), attention)\n",
    "        self.out_att = GraphAttentionLayer(nhid * nheads, nclass, dropout=dropout, alpha=alpha, concat=False)\n",
    "        self.nheads=nheads\n",
    "\n",
    "    def forward(self, x, adj):\n",
    "       \n",
    "        x = F.dropout(x, self.dropout, training=self.training)\n",
    "        x = torch.cat([att(x, adj) for att in self.attentions], dim=1)\n",
    "        #print(\"Adding x \",x.shape)\n",
    "        self.hid = x\n",
    "        x = F.dropout(x, self.dropout, training=self.training)\n",
    "        x = F.elu(self.out_att(x, adj))\n",
    "        return F.log_softmax(x, dim=1)"
   ]
  },
  {
   "cell_type": "markdown",
   "metadata": {},
   "source": [
    "# Initialize the model code"
   ]
  },
  {
   "cell_type": "code",
   "execution_count": 124,
   "metadata": {},
   "outputs": [
    {
     "name": "stdout",
     "output_type": "stream",
     "text": [
      "GAT CALL\n"
     ]
    }
   ],
   "source": [
    "from __future__ import division\n",
    "from __future__ import print_function\n",
    "\n",
    "import os\n",
    "import glob\n",
    "import time\n",
    "import random\n",
    "import numpy as np\n",
    "import torch\n",
    "import torch.nn as nn\n",
    "import torch.nn.functional as F\n",
    "import torch.optim as optim\n",
    "from torch.autograd import Variable\n",
    "\n",
    "random.seed(72)\n",
    "np.random.seed(72)\n",
    "torch.manual_seed(72)\n",
    "print(\"GAT CALL\")\n",
    "model = GAT(nfeat=features.shape[1], \n",
    "                nhid=128, \n",
    "                nclass=int(labels.max()) + 1, \n",
    "                dropout=0.1, \n",
    "                nheads=12, \n",
    "                alpha=0.2)\n",
    "optimizer = optim.Adam(model.parameters(), \n",
    "                       lr=0.002, \n",
    "                       weight_decay=0)\n",
    "\n",
    "\n",
    "features, adj, labels = Variable(features), Variable(torch.FloatTensor(adj)), Variable(labels)"
   ]
  },
  {
   "cell_type": "markdown",
   "metadata": {},
   "source": [
    "# Train Dummy Dataset"
   ]
  },
  {
   "cell_type": "code",
   "execution_count": 125,
   "metadata": {},
   "outputs": [
    {
     "name": "stdout",
     "output_type": "stream",
     "text": [
      "model call torch.Size([5000, 1968]) torch.Size([6968, 6968])\n",
      "Epoch: 0001 loss_train: 5.2481 acc_train: 0.0035 loss_val: 5.2478 acc_val: 0.0000 time: 5.7554s\n",
      "model call torch.Size([5000, 1968]) torch.Size([6968, 6968])\n",
      "Epoch: 0002 loss_train: 5.1843 acc_train: 0.2743 loss_val: 5.1947 acc_val: 0.2200 time: 5.7282s\n",
      "model call torch.Size([5000, 1968]) torch.Size([6968, 6968])\n",
      "Epoch: 0003 loss_train: 5.1209 acc_train: 0.5187 loss_val: 5.1479 acc_val: 0.3914 time: 5.7200s\n",
      "model call torch.Size([5000, 1968]) torch.Size([6968, 6968])\n",
      "Epoch: 0004 loss_train: 5.0508 acc_train: 0.5978 loss_val: 5.0930 acc_val: 0.4429 time: 5.7151s\n",
      "model call torch.Size([5000, 1968]) torch.Size([6968, 6968])\n",
      "Epoch: 0005 loss_train: 4.9840 acc_train: 0.6270 loss_val: 5.0359 acc_val: 0.4771 time: 5.7078s\n",
      "model call torch.Size([5000, 1968]) torch.Size([6968, 6968])\n",
      "Epoch: 0006 loss_train: 4.9189 acc_train: 0.6362 loss_val: 4.9931 acc_val: 0.4714 time: 5.7266s\n",
      "model call torch.Size([5000, 1968]) torch.Size([6968, 6968])\n",
      "Epoch: 0007 loss_train: 4.8273 acc_train: 0.6352 loss_val: 4.9098 acc_val: 0.4857 time: 5.7309s\n",
      "model call torch.Size([5000, 1968]) torch.Size([6968, 6968])\n",
      "Epoch: 0008 loss_train: 4.7455 acc_train: 0.6359 loss_val: 4.8401 acc_val: 0.4914 time: 5.7202s\n",
      "model call torch.Size([5000, 1968]) torch.Size([6968, 6968])\n",
      "Epoch: 0009 loss_train: 4.6410 acc_train: 0.6356 loss_val: 4.7619 acc_val: 0.5029 time: 5.7283s\n",
      "model call torch.Size([5000, 1968]) torch.Size([6968, 6968])\n",
      "Epoch: 0010 loss_train: 4.5480 acc_train: 0.6317 loss_val: 4.6903 acc_val: 0.4886 time: 5.7068s\n",
      "model call torch.Size([5000, 1968]) torch.Size([6968, 6968])\n",
      "Epoch: 0011 loss_train: 4.4113 acc_train: 0.6248 loss_val: 4.5837 acc_val: 0.4829 time: 5.7220s\n",
      "model call torch.Size([5000, 1968]) torch.Size([6968, 6968])\n",
      "Epoch: 0012 loss_train: 4.2958 acc_train: 0.6098 loss_val: 4.4963 acc_val: 0.4914 time: 5.7203s\n",
      "model call torch.Size([5000, 1968]) torch.Size([6968, 6968])\n",
      "Epoch: 0013 loss_train: 4.1527 acc_train: 0.5889 loss_val: 4.3793 acc_val: 0.4829 time: 5.7412s\n",
      "model call torch.Size([5000, 1968]) torch.Size([6968, 6968])\n",
      "Epoch: 0014 loss_train: 4.0340 acc_train: 0.5794 loss_val: 4.2975 acc_val: 0.4457 time: 5.7360s\n",
      "model call torch.Size([5000, 1968]) torch.Size([6968, 6968])\n",
      "Epoch: 0015 loss_train: 3.9059 acc_train: 0.5692 loss_val: 4.2325 acc_val: 0.4400 time: 5.7219s\n",
      "model call torch.Size([5000, 1968]) torch.Size([6968, 6968])\n",
      "Epoch: 0016 loss_train: 3.7930 acc_train: 0.5644 loss_val: 4.0479 acc_val: 0.4571 time: 5.7141s\n",
      "model call torch.Size([5000, 1968]) torch.Size([6968, 6968])\n",
      "Epoch: 0017 loss_train: 3.6632 acc_train: 0.5622 loss_val: 4.0125 acc_val: 0.4371 time: 5.7275s\n",
      "model call torch.Size([5000, 1968]) torch.Size([6968, 6968])\n",
      "Epoch: 0018 loss_train: 3.5683 acc_train: 0.5610 loss_val: 3.9344 acc_val: 0.4400 time: 5.7165s\n",
      "model call torch.Size([5000, 1968]) torch.Size([6968, 6968])\n",
      "Epoch: 0019 loss_train: 3.4422 acc_train: 0.5603 loss_val: 3.8611 acc_val: 0.4371 time: 5.7340s\n",
      "model call torch.Size([5000, 1968]) torch.Size([6968, 6968])\n",
      "Epoch: 0020 loss_train: 3.3115 acc_train: 0.5698 loss_val: 3.6791 acc_val: 0.4457 time: 5.7275s\n",
      "model call torch.Size([5000, 1968]) torch.Size([6968, 6968])\n",
      "Epoch: 0021 loss_train: 3.2280 acc_train: 0.5717 loss_val: 3.6601 acc_val: 0.4543 time: 5.7257s\n",
      "model call torch.Size([5000, 1968]) torch.Size([6968, 6968])\n",
      "Epoch: 0022 loss_train: 3.1258 acc_train: 0.5708 loss_val: 3.5055 acc_val: 0.4629 time: 5.7361s\n",
      "model call torch.Size([5000, 1968]) torch.Size([6968, 6968])\n",
      "Epoch: 0023 loss_train: 2.9953 acc_train: 0.5743 loss_val: 3.4452 acc_val: 0.4429 time: 5.7406s\n",
      "model call torch.Size([5000, 1968]) torch.Size([6968, 6968])\n",
      "Epoch: 0024 loss_train: 2.9163 acc_train: 0.5768 loss_val: 3.3832 acc_val: 0.4800 time: 5.7291s\n",
      "model call torch.Size([5000, 1968]) torch.Size([6968, 6968])\n",
      "Epoch: 0025 loss_train: 2.8309 acc_train: 0.5832 loss_val: 3.4090 acc_val: 0.4629 time: 5.7264s\n",
      "model call torch.Size([5000, 1968]) torch.Size([6968, 6968])\n",
      "Epoch: 0026 loss_train: 2.7185 acc_train: 0.5940 loss_val: 3.3259 acc_val: 0.4600 time: 6.1853s\n",
      "model call torch.Size([5000, 1968]) torch.Size([6968, 6968])\n",
      "Epoch: 0027 loss_train: 2.6244 acc_train: 0.6006 loss_val: 3.2154 acc_val: 0.4829 time: 6.7657s\n",
      "model call torch.Size([5000, 1968]) torch.Size([6968, 6968])\n",
      "Epoch: 0028 loss_train: 2.5801 acc_train: 0.5908 loss_val: 3.2056 acc_val: 0.4629 time: 5.7283s\n",
      "model call torch.Size([5000, 1968]) torch.Size([6968, 6968])\n",
      "Epoch: 0029 loss_train: 2.4788 acc_train: 0.6057 loss_val: 3.1568 acc_val: 0.4800 time: 5.7090s\n",
      "model call torch.Size([5000, 1968]) torch.Size([6968, 6968])\n",
      "Epoch: 0030 loss_train: 2.3879 acc_train: 0.6181 loss_val: 3.0689 acc_val: 0.4886 time: 5.7082s\n",
      "model call torch.Size([5000, 1968]) torch.Size([6968, 6968])\n",
      "Epoch: 0031 loss_train: 2.3390 acc_train: 0.6152 loss_val: 3.0115 acc_val: 0.4886 time: 5.7209s\n",
      "model call torch.Size([5000, 1968]) torch.Size([6968, 6968])\n",
      "Epoch: 0032 loss_train: 2.2636 acc_train: 0.6286 loss_val: 2.9296 acc_val: 0.4800 time: 5.7145s\n",
      "model call torch.Size([5000, 1968]) torch.Size([6968, 6968])\n",
      "Epoch: 0033 loss_train: 2.2202 acc_train: 0.6356 loss_val: 2.8927 acc_val: 0.5057 time: 5.7125s\n",
      "model call torch.Size([5000, 1968]) torch.Size([6968, 6968])\n",
      "Epoch: 0034 loss_train: 2.1621 acc_train: 0.6403 loss_val: 2.8241 acc_val: 0.5086 time: 5.7185s\n",
      "model call torch.Size([5000, 1968]) torch.Size([6968, 6968])\n",
      "Epoch: 0035 loss_train: 2.0800 acc_train: 0.6590 loss_val: 2.6355 acc_val: 0.5457 time: 5.7187s\n",
      "model call torch.Size([5000, 1968]) torch.Size([6968, 6968])\n",
      "Epoch: 0036 loss_train: 2.0203 acc_train: 0.6549 loss_val: 2.8127 acc_val: 0.5171 time: 5.7137s\n",
      "model call torch.Size([5000, 1968]) torch.Size([6968, 6968])\n",
      "Epoch: 0037 loss_train: 1.9463 acc_train: 0.6724 loss_val: 2.6842 acc_val: 0.4971 time: 5.7300s\n",
      "model call torch.Size([5000, 1968]) torch.Size([6968, 6968])\n",
      "Epoch: 0038 loss_train: 1.8938 acc_train: 0.6638 loss_val: 2.5999 acc_val: 0.5143 time: 5.7271s\n",
      "model call torch.Size([5000, 1968]) torch.Size([6968, 6968])\n",
      "Epoch: 0039 loss_train: 1.8067 acc_train: 0.6717 loss_val: 2.6487 acc_val: 0.5029 time: 5.7213s\n",
      "model call torch.Size([5000, 1968]) torch.Size([6968, 6968])\n",
      "Epoch: 0040 loss_train: 1.7895 acc_train: 0.6819 loss_val: 2.5741 acc_val: 0.5229 time: 5.7272s\n",
      "model call torch.Size([5000, 1968]) torch.Size([6968, 6968])\n",
      "Epoch: 0041 loss_train: 1.7729 acc_train: 0.6778 loss_val: 2.6231 acc_val: 0.5371 time: 5.7255s\n",
      "model call torch.Size([5000, 1968]) torch.Size([6968, 6968])\n",
      "Epoch: 0042 loss_train: 1.6959 acc_train: 0.6943 loss_val: 2.4253 acc_val: 0.5457 time: 5.7263s\n",
      "model call torch.Size([5000, 1968]) torch.Size([6968, 6968])\n",
      "Epoch: 0043 loss_train: 1.6025 acc_train: 0.6994 loss_val: 2.4783 acc_val: 0.5429 time: 5.7341s\n",
      "model call torch.Size([5000, 1968]) torch.Size([6968, 6968])\n",
      "Epoch: 0044 loss_train: 1.5871 acc_train: 0.7149 loss_val: 2.4645 acc_val: 0.5829 time: 5.7259s\n",
      "model call torch.Size([5000, 1968]) torch.Size([6968, 6968])\n",
      "Epoch: 0045 loss_train: 1.4987 acc_train: 0.7197 loss_val: 2.4841 acc_val: 0.5629 time: 5.7244s\n",
      "model call torch.Size([5000, 1968]) torch.Size([6968, 6968])\n",
      "Epoch: 0046 loss_train: 1.4971 acc_train: 0.7260 loss_val: 2.3597 acc_val: 0.5686 time: 5.7333s\n",
      "model call torch.Size([5000, 1968]) torch.Size([6968, 6968])\n",
      "Epoch: 0047 loss_train: 1.4712 acc_train: 0.7254 loss_val: 2.2622 acc_val: 0.5543 time: 5.7298s\n",
      "model call torch.Size([5000, 1968]) torch.Size([6968, 6968])\n",
      "Epoch: 0048 loss_train: 1.3810 acc_train: 0.7454 loss_val: 2.3332 acc_val: 0.5886 time: 5.7342s\n",
      "model call torch.Size([5000, 1968]) torch.Size([6968, 6968])\n",
      "Epoch: 0049 loss_train: 1.3953 acc_train: 0.7454 loss_val: 2.3476 acc_val: 0.5714 time: 5.7266s\n",
      "model call torch.Size([5000, 1968]) torch.Size([6968, 6968])\n",
      "Epoch: 0050 loss_train: 1.3850 acc_train: 0.7489 loss_val: 2.1984 acc_val: 0.6086 time: 5.7274s\n",
      "model call torch.Size([5000, 1968]) torch.Size([6968, 6968])\n",
      "Epoch: 0051 loss_train: 1.3399 acc_train: 0.7486 loss_val: 2.2858 acc_val: 0.5800 time: 5.7258s\n",
      "model call torch.Size([5000, 1968]) torch.Size([6968, 6968])\n",
      "Epoch: 0052 loss_train: 1.3049 acc_train: 0.7502 loss_val: 2.2189 acc_val: 0.5943 time: 5.7277s\n",
      "model call torch.Size([5000, 1968]) torch.Size([6968, 6968])\n"
     ]
    },
    {
     "name": "stdout",
     "output_type": "stream",
     "text": [
      "Epoch: 0053 loss_train: 1.2970 acc_train: 0.7737 loss_val: 2.2829 acc_val: 0.6200 time: 5.7287s\n",
      "model call torch.Size([5000, 1968]) torch.Size([6968, 6968])\n",
      "Epoch: 0054 loss_train: 1.2261 acc_train: 0.7683 loss_val: 2.2457 acc_val: 0.6229 time: 5.7404s\n",
      "model call torch.Size([5000, 1968]) torch.Size([6968, 6968])\n",
      "Epoch: 0055 loss_train: 1.2236 acc_train: 0.7759 loss_val: 2.1070 acc_val: 0.6200 time: 5.7379s\n",
      "model call torch.Size([5000, 1968]) torch.Size([6968, 6968])\n",
      "Epoch: 0056 loss_train: 1.1919 acc_train: 0.7844 loss_val: 2.0435 acc_val: 0.6257 time: 5.7296s\n",
      "model call torch.Size([5000, 1968]) torch.Size([6968, 6968])\n",
      "Epoch: 0057 loss_train: 1.1572 acc_train: 0.7822 loss_val: 2.1668 acc_val: 0.6171 time: 5.9712s\n",
      "model call torch.Size([5000, 1968]) torch.Size([6968, 6968])\n",
      "Epoch: 0058 loss_train: 1.0897 acc_train: 0.7937 loss_val: 2.1047 acc_val: 0.6143 time: 6.9380s\n",
      "model call torch.Size([5000, 1968]) torch.Size([6968, 6968])\n",
      "Epoch: 0059 loss_train: 1.0606 acc_train: 0.8032 loss_val: 2.1061 acc_val: 0.6057 time: 5.7406s\n",
      "model call torch.Size([5000, 1968]) torch.Size([6968, 6968])\n",
      "Epoch: 0060 loss_train: 1.0057 acc_train: 0.8143 loss_val: 2.1257 acc_val: 0.6429 time: 5.7263s\n",
      "model call torch.Size([5000, 1968]) torch.Size([6968, 6968])\n",
      "Epoch: 0061 loss_train: 1.0098 acc_train: 0.8130 loss_val: 2.0542 acc_val: 0.6314 time: 5.7205s\n",
      "model call torch.Size([5000, 1968]) torch.Size([6968, 6968])\n",
      "Epoch: 0062 loss_train: 1.0252 acc_train: 0.8130 loss_val: 2.0785 acc_val: 0.6457 time: 5.7233s\n",
      "model call torch.Size([5000, 1968]) torch.Size([6968, 6968])\n",
      "Epoch: 0063 loss_train: 0.9815 acc_train: 0.8187 loss_val: 2.0463 acc_val: 0.6400 time: 5.7329s\n",
      "model call torch.Size([5000, 1968]) torch.Size([6968, 6968])\n",
      "Epoch: 0064 loss_train: 0.9734 acc_train: 0.8244 loss_val: 2.1367 acc_val: 0.6371 time: 5.7256s\n",
      "model call torch.Size([5000, 1968]) torch.Size([6968, 6968])\n",
      "Epoch: 0065 loss_train: 0.8865 acc_train: 0.8432 loss_val: 2.0515 acc_val: 0.6629 time: 5.7217s\n",
      "model call torch.Size([5000, 1968]) torch.Size([6968, 6968])\n",
      "Epoch: 0066 loss_train: 0.8555 acc_train: 0.8562 loss_val: 2.0003 acc_val: 0.6600 time: 5.7224s\n",
      "model call torch.Size([5000, 1968]) torch.Size([6968, 6968])\n",
      "Epoch: 0067 loss_train: 0.8856 acc_train: 0.8514 loss_val: 1.9993 acc_val: 0.6857 time: 5.7289s\n",
      "model call torch.Size([5000, 1968]) torch.Size([6968, 6968])\n",
      "Epoch: 0068 loss_train: 0.8642 acc_train: 0.8578 loss_val: 2.0359 acc_val: 0.6429 time: 5.7184s\n",
      "model call torch.Size([5000, 1968]) torch.Size([6968, 6968])\n",
      "Epoch: 0069 loss_train: 0.8162 acc_train: 0.8654 loss_val: 1.8731 acc_val: 0.6771 time: 5.7332s\n",
      "model call torch.Size([5000, 1968]) torch.Size([6968, 6968])\n",
      "Epoch: 0070 loss_train: 0.8077 acc_train: 0.8594 loss_val: 1.9466 acc_val: 0.6686 time: 5.7270s\n",
      "model call torch.Size([5000, 1968]) torch.Size([6968, 6968])\n",
      "Epoch: 0071 loss_train: 0.7816 acc_train: 0.8632 loss_val: 1.9762 acc_val: 0.6714 time: 5.7293s\n",
      "model call torch.Size([5000, 1968]) torch.Size([6968, 6968])\n",
      "Epoch: 0072 loss_train: 0.7623 acc_train: 0.8724 loss_val: 1.8755 acc_val: 0.6857 time: 5.7253s\n",
      "model call torch.Size([5000, 1968]) torch.Size([6968, 6968])\n",
      "Epoch: 0073 loss_train: 0.7011 acc_train: 0.8835 loss_val: 1.7926 acc_val: 0.7057 time: 5.7300s\n",
      "model call torch.Size([5000, 1968]) torch.Size([6968, 6968])\n",
      "Epoch: 0074 loss_train: 0.6986 acc_train: 0.8800 loss_val: 1.7748 acc_val: 0.6914 time: 5.7406s\n",
      "model call torch.Size([5000, 1968]) torch.Size([6968, 6968])\n",
      "Epoch: 0075 loss_train: 0.7291 acc_train: 0.8860 loss_val: 1.6698 acc_val: 0.6829 time: 5.7349s\n",
      "model call torch.Size([5000, 1968]) torch.Size([6968, 6968])\n",
      "Epoch: 0076 loss_train: 0.6748 acc_train: 0.8816 loss_val: 1.7689 acc_val: 0.6829 time: 5.7275s\n",
      "model call torch.Size([5000, 1968]) torch.Size([6968, 6968])\n",
      "Epoch: 0077 loss_train: 0.6514 acc_train: 0.8794 loss_val: 1.7872 acc_val: 0.7029 time: 5.7257s\n",
      "model call torch.Size([5000, 1968]) torch.Size([6968, 6968])\n",
      "Epoch: 0078 loss_train: 0.5720 acc_train: 0.8914 loss_val: 1.6767 acc_val: 0.7171 time: 5.7263s\n",
      "model call torch.Size([5000, 1968]) torch.Size([6968, 6968])\n",
      "Epoch: 0079 loss_train: 0.6056 acc_train: 0.8962 loss_val: 1.6774 acc_val: 0.7114 time: 5.7317s\n",
      "model call torch.Size([5000, 1968]) torch.Size([6968, 6968])\n",
      "Epoch: 0080 loss_train: 0.5776 acc_train: 0.8994 loss_val: 1.7503 acc_val: 0.6886 time: 5.7347s\n",
      "model call torch.Size([5000, 1968]) torch.Size([6968, 6968])\n",
      "Epoch: 0081 loss_train: 0.5630 acc_train: 0.9063 loss_val: 1.7239 acc_val: 0.6943 time: 5.7285s\n",
      "model call torch.Size([5000, 1968]) torch.Size([6968, 6968])\n",
      "Epoch: 0082 loss_train: 0.5347 acc_train: 0.9114 loss_val: 1.6453 acc_val: 0.7086 time: 5.7282s\n",
      "model call torch.Size([5000, 1968]) torch.Size([6968, 6968])\n",
      "Epoch: 0083 loss_train: 0.5318 acc_train: 0.9038 loss_val: 1.7703 acc_val: 0.6943 time: 5.7321s\n",
      "model call torch.Size([5000, 1968]) torch.Size([6968, 6968])\n",
      "Epoch: 0084 loss_train: 0.5151 acc_train: 0.9079 loss_val: 1.6336 acc_val: 0.7257 time: 5.7227s\n",
      "model call torch.Size([5000, 1968]) torch.Size([6968, 6968])\n",
      "Epoch: 0085 loss_train: 0.4887 acc_train: 0.9102 loss_val: 1.6989 acc_val: 0.7086 time: 5.7388s\n",
      "model call torch.Size([5000, 1968]) torch.Size([6968, 6968])\n",
      "Epoch: 0086 loss_train: 0.4705 acc_train: 0.9248 loss_val: 1.6038 acc_val: 0.7143 time: 5.7394s\n",
      "model call torch.Size([5000, 1968]) torch.Size([6968, 6968])\n",
      "Epoch: 0087 loss_train: 0.4578 acc_train: 0.9254 loss_val: 1.6886 acc_val: 0.7086 time: 5.7261s\n",
      "model call torch.Size([5000, 1968]) torch.Size([6968, 6968])\n",
      "Epoch: 0088 loss_train: 0.4728 acc_train: 0.9165 loss_val: 1.6221 acc_val: 0.6943 time: 5.7460s\n",
      "model call torch.Size([5000, 1968]) torch.Size([6968, 6968])\n",
      "Epoch: 0089 loss_train: 0.4300 acc_train: 0.9187 loss_val: 1.6202 acc_val: 0.7086 time: 7.1121s\n",
      "model call torch.Size([5000, 1968]) torch.Size([6968, 6968])\n",
      "Epoch: 0090 loss_train: 0.4316 acc_train: 0.9210 loss_val: 1.6028 acc_val: 0.7229 time: 5.8765s\n",
      "model call torch.Size([5000, 1968]) torch.Size([6968, 6968])\n",
      "Epoch: 0091 loss_train: 0.4359 acc_train: 0.9298 loss_val: 1.6134 acc_val: 0.7200 time: 5.7256s\n",
      "model call torch.Size([5000, 1968]) torch.Size([6968, 6968])\n",
      "Epoch: 0092 loss_train: 0.4204 acc_train: 0.9260 loss_val: 1.6418 acc_val: 0.7171 time: 5.7306s\n",
      "model call torch.Size([5000, 1968]) torch.Size([6968, 6968])\n",
      "Epoch: 0093 loss_train: 0.3698 acc_train: 0.9413 loss_val: 1.6513 acc_val: 0.7200 time: 5.7304s\n",
      "model call torch.Size([5000, 1968]) torch.Size([6968, 6968])\n",
      "Epoch: 0094 loss_train: 0.3647 acc_train: 0.9387 loss_val: 1.4704 acc_val: 0.7286 time: 5.7305s\n",
      "model call torch.Size([5000, 1968]) torch.Size([6968, 6968])\n",
      "Epoch: 0095 loss_train: 0.3699 acc_train: 0.9368 loss_val: 1.6091 acc_val: 0.7257 time: 5.7312s\n",
      "model call torch.Size([5000, 1968]) torch.Size([6968, 6968])\n",
      "Epoch: 0096 loss_train: 0.3793 acc_train: 0.9365 loss_val: 1.4693 acc_val: 0.7400 time: 5.7381s\n",
      "model call torch.Size([5000, 1968]) torch.Size([6968, 6968])\n",
      "Epoch: 0097 loss_train: 0.3856 acc_train: 0.9352 loss_val: 1.5777 acc_val: 0.7086 time: 5.7262s\n",
      "model call torch.Size([5000, 1968]) torch.Size([6968, 6968])\n",
      "Epoch: 0098 loss_train: 0.3579 acc_train: 0.9359 loss_val: 1.6303 acc_val: 0.7343 time: 5.7233s\n",
      "model call torch.Size([5000, 1968]) torch.Size([6968, 6968])\n",
      "Epoch: 0099 loss_train: 0.3584 acc_train: 0.9330 loss_val: 1.5698 acc_val: 0.6971 time: 5.7291s\n",
      "model call torch.Size([5000, 1968]) torch.Size([6968, 6968])\n",
      "Epoch: 0100 loss_train: 0.3415 acc_train: 0.9413 loss_val: 1.5480 acc_val: 0.7257 time: 5.7370s\n",
      "model call torch.Size([5000, 1968]) torch.Size([6968, 6968])\n",
      "Epoch: 0101 loss_train: 0.3498 acc_train: 0.9394 loss_val: 1.5102 acc_val: 0.7257 time: 5.7268s\n",
      "model call torch.Size([5000, 1968]) torch.Size([6968, 6968])\n",
      "Epoch: 0102 loss_train: 0.3210 acc_train: 0.9486 loss_val: 1.6501 acc_val: 0.6857 time: 5.7297s\n",
      "model call torch.Size([5000, 1968]) torch.Size([6968, 6968])\n",
      "Epoch: 0103 loss_train: 0.3342 acc_train: 0.9362 loss_val: 1.5872 acc_val: 0.7429 time: 5.7336s\n",
      "model call torch.Size([5000, 1968]) torch.Size([6968, 6968])\n",
      "Epoch: 0104 loss_train: 0.2922 acc_train: 0.9476 loss_val: 1.5900 acc_val: 0.6943 time: 5.7249s\n",
      "model call torch.Size([5000, 1968]) torch.Size([6968, 6968])\n",
      "Epoch: 0105 loss_train: 0.2709 acc_train: 0.9559 loss_val: 1.5528 acc_val: 0.7429 time: 5.7262s\n",
      "model call torch.Size([5000, 1968]) torch.Size([6968, 6968])\n"
     ]
    },
    {
     "name": "stdout",
     "output_type": "stream",
     "text": [
      "Epoch: 0106 loss_train: 0.2915 acc_train: 0.9508 loss_val: 1.5806 acc_val: 0.7200 time: 5.7365s\n",
      "model call torch.Size([5000, 1968]) torch.Size([6968, 6968])\n",
      "Epoch: 0107 loss_train: 0.2824 acc_train: 0.9517 loss_val: 1.5049 acc_val: 0.7314 time: 5.7333s\n",
      "model call torch.Size([5000, 1968]) torch.Size([6968, 6968])\n",
      "Epoch: 0108 loss_train: 0.2508 acc_train: 0.9517 loss_val: 1.6802 acc_val: 0.7343 time: 5.7295s\n",
      "model call torch.Size([5000, 1968]) torch.Size([6968, 6968])\n",
      "Epoch: 0109 loss_train: 0.2455 acc_train: 0.9610 loss_val: 1.5168 acc_val: 0.7086 time: 5.7326s\n",
      "model call torch.Size([5000, 1968]) torch.Size([6968, 6968])\n",
      "Epoch: 0110 loss_train: 0.2654 acc_train: 0.9594 loss_val: 1.5710 acc_val: 0.7314 time: 5.7284s\n",
      "model call torch.Size([5000, 1968]) torch.Size([6968, 6968])\n",
      "Epoch: 0111 loss_train: 0.2627 acc_train: 0.9559 loss_val: 1.5606 acc_val: 0.7057 time: 5.7451s\n",
      "model call torch.Size([5000, 1968]) torch.Size([6968, 6968])\n",
      "Epoch: 0112 loss_train: 0.2683 acc_train: 0.9530 loss_val: 1.6051 acc_val: 0.7286 time: 5.7425s\n",
      "model call torch.Size([5000, 1968]) torch.Size([6968, 6968])\n",
      "Epoch: 0113 loss_train: 0.2591 acc_train: 0.9514 loss_val: 1.6293 acc_val: 0.7143 time: 5.7259s\n",
      "model call torch.Size([5000, 1968]) torch.Size([6968, 6968])\n",
      "Epoch: 0114 loss_train: 0.2546 acc_train: 0.9524 loss_val: 1.5880 acc_val: 0.7114 time: 5.7454s\n",
      "model call torch.Size([5000, 1968]) torch.Size([6968, 6968])\n",
      "Epoch: 0115 loss_train: 0.2452 acc_train: 0.9568 loss_val: 1.6147 acc_val: 0.7171 time: 5.7309s\n",
      "model call torch.Size([5000, 1968]) torch.Size([6968, 6968])\n",
      "Epoch: 0116 loss_train: 0.2671 acc_train: 0.9565 loss_val: 1.5351 acc_val: 0.7229 time: 5.7399s\n",
      "Early Stopping...\n",
      "Optimization Finished!\n",
      "Total time elapsed: 669.0132s\n"
     ]
    }
   ],
   "source": [
    "import time\n",
    "import numpy as np\n",
    "from sklearn.metrics import accuracy_score\n",
    "#from utils import cal_accuracy\n",
    "val_losses = []\n",
    "train_losses = []\n",
    "val_loss = []\n",
    "def train(epoch):\n",
    "    t = time.time()\n",
    "    #print(\"model train\")\n",
    "    model.train()\n",
    "    optimizer.zero_grad()\n",
    "    print(\"model call\",features.shape,adj.shape)\n",
    "    output = model(features, adj)\n",
    "    #print(\"output\",output)\n",
    "    #print(\"loss calculation\")\n",
    "    #print(\"output[idx_train]\",output[idx_train],labels[idx_train])\n",
    "    loss_train = F.nll_loss(output[idx_train], labels[idx_train])\n",
    "    acc_train = accuracy(output[idx_train], labels[idx_train])\n",
    "    loss_train.backward()\n",
    "    optimizer.step()\n",
    "\n",
    "    loss_val = F.nll_loss(output[idx_val], labels[idx_val])\n",
    "    val_loss.append(loss_val.item())\n",
    "    acc_val = accuracy(output[idx_val], labels[idx_val])\n",
    "    train_losses.append(loss_train.item())\n",
    "    val_losses.append(loss_val.item())\n",
    "    print('Epoch: {:04d}'.format(epoch+1),\n",
    "          'loss_train: {:.4f}'.format(loss_train.data.item()),\n",
    "          'acc_train: {:.4f}'.format(acc_train.data.item()),\n",
    "          'loss_val: {:.4f}'.format(loss_val.data.item()),\n",
    "          'acc_val: {:.4f}'.format(acc_val.data.item()),\n",
    "          'time: {:.4f}s'.format(time.time() - t))\n",
    "\n",
    "    return loss_val.data.item()\n",
    "\n",
    "\n",
    "# Train model\n",
    "t_total = time.time()\n",
    "loss_values = []\n",
    "# bad_counter = 0\n",
    "# best = 10 + 1\n",
    "# best_epoch = 0\n",
    "for epoch in range(200):\n",
    "    loss_values.append(train(epoch))\n",
    "    if epoch > 20 and np.min(val_loss[-20:]) > np.min(val_loss[:-20]) :\n",
    "            print(\"Early Stopping...\")\n",
    "            break\n",
    "\n",
    "print(\"Optimization Finished!\")\n",
    "print(\"Total time elapsed: {:.4f}s\".format(time.time() - t_total))"
   ]
  },
  {
   "cell_type": "code",
   "execution_count": 126,
   "metadata": {},
   "outputs": [
    {
     "data": {
      "image/png": "[encoded data removed]",
      "text/plain": [
       "<Figure size 1000x500 with 1 Axes>"
      ]
     },
     "metadata": {},
     "output_type": "display_data"
    }
   ],
   "source": [
    "import matplotlib.pyplot as plt\n",
    "plt.figure(figsize=(10,5))\n",
    "plt.title(\"Training and Validation Loss\")\n",
    "plt.plot(val_losses,label=\"val\")\n",
    "plt.plot(train_losses,label=\"train\")\n",
    "plt.xlabel(\"iterations\")\n",
    "plt.ylabel(\"Loss\")\n",
    "plt.legend()\n",
    "plt.show()"
   ]
  },
  {
   "cell_type": "code",
   "execution_count": 99,
   "metadata": {},
   "outputs": [],
   "source": [
    "def get_weights_hidden_local(model,features,adj):\n",
    "    model.eval()\n",
    "    nheads = model.nheads\n",
    "    gat_layer1_w = [model.attentions[i].W for i in range(nheads)]\n",
    "    gat_layer1_a = [model.attentions[i].a for i in range(nheads)]\n",
    "    gat_layer2_w = model.out_att.W\n",
    "    gat_layer2_a = model.out_att.a\n",
    "    layer1_hidden_weights = model.hid\n",
    "    return [gat_layer1_w,gat_layer1_a,layer1_hidden_weights,gat_layer2_w,gat_layer2_a]"
   ]
  },
  {
   "cell_type": "code",
   "execution_count": 100,
   "metadata": {},
   "outputs": [],
   "source": [
    "model_weight_list = get_weights_hidden_local(model,features,adj)"
   ]
  },
  {
   "cell_type": "code",
   "execution_count": 101,
   "metadata": {},
   "outputs": [
    {
     "data": {
      "text/plain": [
       "(12, 12, 6968, 2400, 380)"
      ]
     },
     "execution_count": 101,
     "metadata": {},
     "output_type": "execute_result"
    }
   ],
   "source": [
    "len(model_weight_list[0]),len(model_weight_list[1]),len(model_weight_list[2]),len(model_weight_list[3]),len(model_weight_list[4])"
   ]
  },
  {
   "cell_type": "code",
   "execution_count": 102,
   "metadata": {},
   "outputs": [],
   "source": [
    "model_weight_list = get_weights_hidden_local(model,features,adj)\n",
    "layer1_hidden_weights = model_weight_list[2][3:]"
   ]
  },
  {
   "cell_type": "code",
   "execution_count": 103,
   "metadata": {},
   "outputs": [
    {
     "data": {
      "text/plain": [
       "torch.Size([6965, 2400])"
      ]
     },
     "execution_count": 103,
     "metadata": {},
     "output_type": "execute_result"
    }
   ],
   "source": [
    "layer1_hidden_weights.shape"
   ]
  },
  {
   "cell_type": "code",
   "execution_count": 104,
   "metadata": {},
   "outputs": [],
   "source": [
    "train_size = len(train_sentences)"
   ]
  },
  {
   "cell_type": "code",
   "execution_count": 105,
   "metadata": {},
   "outputs": [],
   "source": [
    "import numpy as np\n",
    "from math import log\n",
    "import torch\n",
    "import torch.nn.functional as F\n",
    "\n",
    "def get_test_emb(tokenize_test_sentences, word_id_map, vocab_length, word_doc_freq, word_list, train_size):\n",
    "    test_size = len(tokenize_test_sentences)\n",
    "    #print(\"tokenize_test_sentences...\",tokenize_test_sentences,len(tokenize_test_sentences))\n",
    "    test_emb = [[0]*vocab_length for _ in range(test_size)]\n",
    "    #print(\"test_emb...\",test_emb)\n",
    "    #print(len(test_emb))\n",
    "    tokenized_test_edge = [[0]*vocab_length+[1] for _ in range(test_size)]\n",
    "    #print(\"tokenized_test_edge...\",tokenized_test_edge)\n",
    "    row=[]\n",
    "    col=[]\n",
    "    weight=[]\n",
    "    for i in range(test_size):\n",
    "        tokenized_test_sample = tokenize_test_sentences[i]\n",
    "        word_freq_list = [0]*vocab_length\n",
    "        for word in tokenized_test_sample:\n",
    "            if word in word_id_map:\n",
    "                #print(\"word and idmap \", word,  word_id_map)\n",
    "                word_freq_list[word_id_map[word]]+=1\n",
    "          \n",
    "        #print(\"tokenized_test_sample ...\",tokenized_test_sample)\n",
    "        for word in tokenized_test_sample:\n",
    "            if word in word_id_map:\n",
    "                j = word_id_map[word]\n",
    "                freq = word_freq_list[j]   \n",
    "                idf = log(1.0 * train_size / word_doc_freq[word_list[j]])\n",
    "                w = freq * idf\n",
    "                test_emb[i][j] = w/len(tokenized_test_sample)\n",
    "                tokenized_test_edge[i][j] = w\n",
    "                row.append(i)\n",
    "                col.append(j)\n",
    "                weight.append(w)\n",
    "         \n",
    "        #norm_item_temp = (1/norm_item[train_size:]).tolist()+[np.sqrt(np.sum(tokenized_test_edge[i]))]\n",
    "        #tokenized_test_edge[i] = tokenized_test_edge[i]/np.array(norm_item_temp)\n",
    "\n",
    "    tokenized_test_edge = np.array(tokenized_test_edge)\n",
    "    #adj = sp.csr_matrix((weight, (row, col)), shape=(vocab_length+1, vocab_length+1))\n",
    "    #adj = adj + adj.T.multiply(adj.T > adj) - adj.multiply(adj.T > adj)  \n",
    " \n",
    "    #print(\"test_emb\",test_emb)\n",
    "    #print(\"tokenized_test_edge\",tokenized_test_edge)\n",
    "    return test_emb, tokenized_test_edge"
   ]
  },
  {
   "cell_type": "code",
   "execution_count": 106,
   "metadata": {},
   "outputs": [],
   "source": [
    "#tokenize_sentences[train_size:]"
   ]
  },
  {
   "cell_type": "code",
   "execution_count": 107,
   "metadata": {},
   "outputs": [],
   "source": [
    "# Generate Test input\n",
    "test_emb, tokenized_test_edge = get_test_emb(tokenize_sentences[train_size:], word_id_map, vocab_length, word_doc_freq, word_list, train_size)\n",
    "#len(test_emb[0]),tokenized_test_edge.shape"
   ]
  },
  {
   "cell_type": "code",
   "execution_count": 108,
   "metadata": {},
   "outputs": [],
   "source": [
    "test_emb = torch.tensor(test_emb)"
   ]
  },
  {
   "cell_type": "code",
   "execution_count": 109,
   "metadata": {},
   "outputs": [
    {
     "data": {
      "text/plain": [
       "torch.Size([1500, 1968])"
      ]
     },
     "execution_count": 109,
     "metadata": {},
     "output_type": "execute_result"
    }
   ],
   "source": [
    "test_emb.shape"
   ]
  },
  {
   "cell_type": "code",
   "execution_count": null,
   "metadata": {},
   "outputs": [],
   "source": [
    "#test_emb = torch.reshape(torch.tensor(test_emb),(3,35))\n",
    "#tokenized_test_edge = torch.FloatTensor(np.array(tokenized_test_edge.todense()))\n",
    "tokenized_test_edge = torch.tensor(tokenized_test_edge)\n",
    "#test_emb.shape,tokenized_test_edge.shape"
   ]
  },
  {
   "cell_type": "code",
   "execution_count": null,
   "metadata": {},
   "outputs": [],
   "source": [
    "tokenized_test_edge.shape,len(tokenized_test_edge),tokenized_test_edge"
   ]
  },
  {
   "cell_type": "code",
   "execution_count": null,
   "metadata": {},
   "outputs": [],
   "source": [
    "test_emb.shape"
   ]
  },
  {
   "cell_type": "code",
   "execution_count": null,
   "metadata": {},
   "outputs": [],
   "source": [
    "test_emb[0]"
   ]
  },
  {
   "cell_type": "code",
   "execution_count": null,
   "metadata": {},
   "outputs": [],
   "source": [
    "torch.__version__"
   ]
  },
  {
   "cell_type": "markdown",
   "metadata": {},
   "source": [
    "# Rachna Mam Test function implementation"
   ]
  },
  {
   "cell_type": "code",
   "execution_count": 130,
   "metadata": {},
   "outputs": [
    {
     "data": {
      "text/plain": [
       "(torch.Size([5000, 1968]), torch.Size([6968, 6968]))"
      ]
     },
     "execution_count": 130,
     "metadata": {},
     "output_type": "execute_result"
    }
   ],
   "source": [
    "features.shape, adj.shape"
   ]
  },
  {
   "cell_type": "code",
   "execution_count": 131,
   "metadata": {},
   "outputs": [
    {
     "data": {
      "text/plain": [
       "(torch.Size([1500, 1968]), (1500, 1969))"
      ]
     },
     "execution_count": 131,
     "metadata": {},
     "output_type": "execute_result"
    }
   ],
   "source": [
    "test_emb.shape,tokenized_test_edge.shape"
   ]
  },
  {
   "cell_type": "code",
   "execution_count": 129,
   "metadata": {},
   "outputs": [
    {
     "ename": "TypeError",
     "evalue": "where() received an invalid combination of arguments - got (numpy.ndarray, Tensor, Tensor), but expected one of:\n * (Tensor condition)\n * (Tensor condition, Tensor input, Tensor other, *, Tensor out)\n * (Tensor condition, Number self, Tensor other)\n      didn't match because some of the arguments have invalid types: (!numpy.ndarray!, !Tensor!, Tensor)\n * (Tensor condition, Tensor input, Number other)\n      didn't match because some of the arguments have invalid types: (!numpy.ndarray!, Tensor, !Tensor!)\n * (Tensor condition, Number self, Number other)\n      didn't match because some of the arguments have invalid types: (!numpy.ndarray!, !Tensor!, !Tensor!)\n",
     "output_type": "error",
     "traceback": [
      "\u001b[0;31m---------------------------------------------------------------------------\u001b[0m",
      "\u001b[0;31mTypeError\u001b[0m                                 Traceback (most recent call last)",
      "\u001b[0;32m/tmp/ipykernel_22140/496835311.py\u001b[0m in \u001b[0;36m<cell line: 1>\u001b[0;34m()\u001b[0m\n\u001b[0;32m----> 1\u001b[0;31m \u001b[0mmodel\u001b[0m\u001b[0;34m(\u001b[0m\u001b[0mtest_emb\u001b[0m\u001b[0;34m,\u001b[0m\u001b[0mtokenized_test_edge\u001b[0m\u001b[0;34m)\u001b[0m\u001b[0;34m\u001b[0m\u001b[0;34m\u001b[0m\u001b[0m\n\u001b[0m",
      "\u001b[0;32m~/anaconda3/envs/pytorch_p39/lib/python3.9/site-packages/torch/nn/modules/module.py\u001b[0m in \u001b[0;36m_call_impl\u001b[0;34m(self, *input, **kwargs)\u001b[0m\n\u001b[1;32m   1192\u001b[0m         if not (self._backward_hooks or self._forward_hooks or self._forward_pre_hooks or _global_backward_hooks\n\u001b[1;32m   1193\u001b[0m                 or _global_forward_hooks or _global_forward_pre_hooks):\n\u001b[0;32m-> 1194\u001b[0;31m             \u001b[0;32mreturn\u001b[0m \u001b[0mforward_call\u001b[0m\u001b[0;34m(\u001b[0m\u001b[0;34m*\u001b[0m\u001b[0minput\u001b[0m\u001b[0;34m,\u001b[0m \u001b[0;34m**\u001b[0m\u001b[0mkwargs\u001b[0m\u001b[0;34m)\u001b[0m\u001b[0;34m\u001b[0m\u001b[0;34m\u001b[0m\u001b[0m\n\u001b[0m\u001b[1;32m   1195\u001b[0m         \u001b[0;31m# Do not call functions when jit is used\u001b[0m\u001b[0;34m\u001b[0m\u001b[0;34m\u001b[0m\u001b[0m\n\u001b[1;32m   1196\u001b[0m         \u001b[0mfull_backward_hooks\u001b[0m\u001b[0;34m,\u001b[0m \u001b[0mnon_full_backward_hooks\u001b[0m \u001b[0;34m=\u001b[0m \u001b[0;34m[\u001b[0m\u001b[0;34m]\u001b[0m\u001b[0;34m,\u001b[0m \u001b[0;34m[\u001b[0m\u001b[0;34m]\u001b[0m\u001b[0;34m\u001b[0m\u001b[0;34m\u001b[0m\u001b[0m\n",
      "\u001b[0;32m/tmp/ipykernel_22140/459439326.py\u001b[0m in \u001b[0;36mforward\u001b[0;34m(self, x, adj)\u001b[0m\n\u001b[1;32m     17\u001b[0m \u001b[0;34m\u001b[0m\u001b[0m\n\u001b[1;32m     18\u001b[0m         \u001b[0mx\u001b[0m \u001b[0;34m=\u001b[0m \u001b[0mF\u001b[0m\u001b[0;34m.\u001b[0m\u001b[0mdropout\u001b[0m\u001b[0;34m(\u001b[0m\u001b[0mx\u001b[0m\u001b[0;34m,\u001b[0m \u001b[0mself\u001b[0m\u001b[0;34m.\u001b[0m\u001b[0mdropout\u001b[0m\u001b[0;34m,\u001b[0m \u001b[0mtraining\u001b[0m\u001b[0;34m=\u001b[0m\u001b[0mself\u001b[0m\u001b[0;34m.\u001b[0m\u001b[0mtraining\u001b[0m\u001b[0;34m)\u001b[0m\u001b[0;34m\u001b[0m\u001b[0;34m\u001b[0m\u001b[0m\n\u001b[0;32m---> 19\u001b[0;31m         \u001b[0mx\u001b[0m \u001b[0;34m=\u001b[0m \u001b[0mtorch\u001b[0m\u001b[0;34m.\u001b[0m\u001b[0mcat\u001b[0m\u001b[0;34m(\u001b[0m\u001b[0;34m[\u001b[0m\u001b[0matt\u001b[0m\u001b[0;34m(\u001b[0m\u001b[0mx\u001b[0m\u001b[0;34m,\u001b[0m \u001b[0madj\u001b[0m\u001b[0;34m)\u001b[0m \u001b[0;32mfor\u001b[0m \u001b[0matt\u001b[0m \u001b[0;32min\u001b[0m \u001b[0mself\u001b[0m\u001b[0;34m.\u001b[0m\u001b[0mattentions\u001b[0m\u001b[0;34m]\u001b[0m\u001b[0;34m,\u001b[0m \u001b[0mdim\u001b[0m\u001b[0;34m=\u001b[0m\u001b[0;36m1\u001b[0m\u001b[0;34m)\u001b[0m\u001b[0;34m\u001b[0m\u001b[0;34m\u001b[0m\u001b[0m\n\u001b[0m\u001b[1;32m     20\u001b[0m         \u001b[0;31m#print(\"Adding x \",x.shape)\u001b[0m\u001b[0;34m\u001b[0m\u001b[0;34m\u001b[0m\u001b[0m\n\u001b[1;32m     21\u001b[0m         \u001b[0mself\u001b[0m\u001b[0;34m.\u001b[0m\u001b[0mhid\u001b[0m \u001b[0;34m=\u001b[0m \u001b[0mx\u001b[0m\u001b[0;34m\u001b[0m\u001b[0;34m\u001b[0m\u001b[0m\n",
      "\u001b[0;32m/tmp/ipykernel_22140/459439326.py\u001b[0m in \u001b[0;36m<listcomp>\u001b[0;34m(.0)\u001b[0m\n\u001b[1;32m     17\u001b[0m \u001b[0;34m\u001b[0m\u001b[0m\n\u001b[1;32m     18\u001b[0m         \u001b[0mx\u001b[0m \u001b[0;34m=\u001b[0m \u001b[0mF\u001b[0m\u001b[0;34m.\u001b[0m\u001b[0mdropout\u001b[0m\u001b[0;34m(\u001b[0m\u001b[0mx\u001b[0m\u001b[0;34m,\u001b[0m \u001b[0mself\u001b[0m\u001b[0;34m.\u001b[0m\u001b[0mdropout\u001b[0m\u001b[0;34m,\u001b[0m \u001b[0mtraining\u001b[0m\u001b[0;34m=\u001b[0m\u001b[0mself\u001b[0m\u001b[0;34m.\u001b[0m\u001b[0mtraining\u001b[0m\u001b[0;34m)\u001b[0m\u001b[0;34m\u001b[0m\u001b[0;34m\u001b[0m\u001b[0m\n\u001b[0;32m---> 19\u001b[0;31m         \u001b[0mx\u001b[0m \u001b[0;34m=\u001b[0m \u001b[0mtorch\u001b[0m\u001b[0;34m.\u001b[0m\u001b[0mcat\u001b[0m\u001b[0;34m(\u001b[0m\u001b[0;34m[\u001b[0m\u001b[0matt\u001b[0m\u001b[0;34m(\u001b[0m\u001b[0mx\u001b[0m\u001b[0;34m,\u001b[0m \u001b[0madj\u001b[0m\u001b[0;34m)\u001b[0m \u001b[0;32mfor\u001b[0m \u001b[0matt\u001b[0m \u001b[0;32min\u001b[0m \u001b[0mself\u001b[0m\u001b[0;34m.\u001b[0m\u001b[0mattentions\u001b[0m\u001b[0;34m]\u001b[0m\u001b[0;34m,\u001b[0m \u001b[0mdim\u001b[0m\u001b[0;34m=\u001b[0m\u001b[0;36m1\u001b[0m\u001b[0;34m)\u001b[0m\u001b[0;34m\u001b[0m\u001b[0;34m\u001b[0m\u001b[0m\n\u001b[0m\u001b[1;32m     20\u001b[0m         \u001b[0;31m#print(\"Adding x \",x.shape)\u001b[0m\u001b[0;34m\u001b[0m\u001b[0;34m\u001b[0m\u001b[0m\n\u001b[1;32m     21\u001b[0m         \u001b[0mself\u001b[0m\u001b[0;34m.\u001b[0m\u001b[0mhid\u001b[0m \u001b[0;34m=\u001b[0m \u001b[0mx\u001b[0m\u001b[0;34m\u001b[0m\u001b[0;34m\u001b[0m\u001b[0m\n",
      "\u001b[0;32m~/anaconda3/envs/pytorch_p39/lib/python3.9/site-packages/torch/nn/modules/module.py\u001b[0m in \u001b[0;36m_call_impl\u001b[0;34m(self, *input, **kwargs)\u001b[0m\n\u001b[1;32m   1192\u001b[0m         if not (self._backward_hooks or self._forward_hooks or self._forward_pre_hooks or _global_backward_hooks\n\u001b[1;32m   1193\u001b[0m                 or _global_forward_hooks or _global_forward_pre_hooks):\n\u001b[0;32m-> 1194\u001b[0;31m             \u001b[0;32mreturn\u001b[0m \u001b[0mforward_call\u001b[0m\u001b[0;34m(\u001b[0m\u001b[0;34m*\u001b[0m\u001b[0minput\u001b[0m\u001b[0;34m,\u001b[0m \u001b[0;34m**\u001b[0m\u001b[0mkwargs\u001b[0m\u001b[0;34m)\u001b[0m\u001b[0;34m\u001b[0m\u001b[0;34m\u001b[0m\u001b[0m\n\u001b[0m\u001b[1;32m   1195\u001b[0m         \u001b[0;31m# Do not call functions when jit is used\u001b[0m\u001b[0;34m\u001b[0m\u001b[0;34m\u001b[0m\u001b[0m\n\u001b[1;32m   1196\u001b[0m         \u001b[0mfull_backward_hooks\u001b[0m\u001b[0;34m,\u001b[0m \u001b[0mnon_full_backward_hooks\u001b[0m \u001b[0;34m=\u001b[0m \u001b[0;34m[\u001b[0m\u001b[0;34m]\u001b[0m\u001b[0;34m,\u001b[0m \u001b[0;34m[\u001b[0m\u001b[0;34m]\u001b[0m\u001b[0;34m\u001b[0m\u001b[0;34m\u001b[0m\u001b[0m\n",
      "\u001b[0;32m/tmp/ipykernel_22140/2020795017.py\u001b[0m in \u001b[0;36mforward\u001b[0;34m(self, h, adj)\u001b[0m\n\u001b[1;32m     37\u001b[0m         \u001b[0mzero_vec\u001b[0m \u001b[0;34m=\u001b[0m \u001b[0;34m-\u001b[0m\u001b[0;36m9e15\u001b[0m\u001b[0;34m*\u001b[0m\u001b[0mtorch\u001b[0m\u001b[0;34m.\u001b[0m\u001b[0mones_like\u001b[0m\u001b[0;34m(\u001b[0m\u001b[0me\u001b[0m\u001b[0;34m)\u001b[0m\u001b[0;34m\u001b[0m\u001b[0;34m\u001b[0m\u001b[0m\n\u001b[1;32m     38\u001b[0m         \u001b[0;31m#print(\"Adj shape\",adj.shape)\u001b[0m\u001b[0;34m\u001b[0m\u001b[0;34m\u001b[0m\u001b[0m\n\u001b[0;32m---> 39\u001b[0;31m         \u001b[0mattention\u001b[0m \u001b[0;34m=\u001b[0m \u001b[0mtorch\u001b[0m\u001b[0;34m.\u001b[0m\u001b[0mwhere\u001b[0m\u001b[0;34m(\u001b[0m\u001b[0madj\u001b[0m \u001b[0;34m>\u001b[0m \u001b[0;36m0\u001b[0m\u001b[0;34m,\u001b[0m \u001b[0me\u001b[0m\u001b[0;34m,\u001b[0m \u001b[0mzero_vec\u001b[0m\u001b[0;34m)\u001b[0m\u001b[0;34m\u001b[0m\u001b[0;34m\u001b[0m\u001b[0m\n\u001b[0m\u001b[1;32m     40\u001b[0m         \u001b[0mattention\u001b[0m \u001b[0;34m=\u001b[0m \u001b[0mF\u001b[0m\u001b[0;34m.\u001b[0m\u001b[0msoftmax\u001b[0m\u001b[0;34m(\u001b[0m\u001b[0mattention\u001b[0m\u001b[0;34m,\u001b[0m \u001b[0mdim\u001b[0m\u001b[0;34m=\u001b[0m\u001b[0;36m1\u001b[0m\u001b[0;34m)\u001b[0m\u001b[0;34m\u001b[0m\u001b[0;34m\u001b[0m\u001b[0m\n\u001b[1;32m     41\u001b[0m         \u001b[0mattention\u001b[0m \u001b[0;34m=\u001b[0m \u001b[0mF\u001b[0m\u001b[0;34m.\u001b[0m\u001b[0mdropout\u001b[0m\u001b[0;34m(\u001b[0m\u001b[0mattention\u001b[0m\u001b[0;34m,\u001b[0m \u001b[0mself\u001b[0m\u001b[0;34m.\u001b[0m\u001b[0mdropout\u001b[0m\u001b[0;34m,\u001b[0m \u001b[0mtraining\u001b[0m\u001b[0;34m=\u001b[0m\u001b[0mself\u001b[0m\u001b[0;34m.\u001b[0m\u001b[0mtraining\u001b[0m\u001b[0;34m)\u001b[0m\u001b[0;34m\u001b[0m\u001b[0;34m\u001b[0m\u001b[0m\n",
      "\u001b[0;31mTypeError\u001b[0m: where() received an invalid combination of arguments - got (numpy.ndarray, Tensor, Tensor), but expected one of:\n * (Tensor condition)\n * (Tensor condition, Tensor input, Tensor other, *, Tensor out)\n * (Tensor condition, Number self, Tensor other)\n      didn't match because some of the arguments have invalid types: (!numpy.ndarray!, !Tensor!, Tensor)\n * (Tensor condition, Tensor input, Number other)\n      didn't match because some of the arguments have invalid types: (!numpy.ndarray!, Tensor, !Tensor!)\n * (Tensor condition, Number self, Number other)\n      didn't match because some of the arguments have invalid types: (!numpy.ndarray!, !Tensor!, !Tensor!)\n"
     ]
    }
   ],
   "source": [
    "model(test_emb,tokenized_test_edge)"
   ]
  },
  {
   "cell_type": "code",
   "execution_count": null,
   "metadata": {},
   "outputs": [],
   "source": [
    "model.eval()\n",
    "test_result = []\n",
    "for ind in range(len(test_emb)):\n",
    "    print(ind)\n",
    "    tokenized_test_edge_temp = tokenized_test_edge[ind]\n",
    "    print(tokenized_test_edge_temp.shape)\n",
    "    layer1_out = []\n",
    "    for head in range(model.nheads):\n",
    "        t = torch.reshape(torch.tensor(test_emb[ind]),(1,test_emb[ind].shape[0]))\n",
    "        print(t.shape)\n",
    "        #test_emb=test_emb[ind]\n",
    "        print(\"model.attentions[head].W\",model.attentions[head].W.shape)\n",
    "        x = torch.mm(t, model.attentions[head].W)#(1*7)*(7*16)=(1*16)\n",
    "        x = torch.vstack((x,model.attentions[head].W))#(1*16)+(7*16)=(8*16)\n",
    "        print(\"model.attentions[head].a[:model.attentions[head].out_features, :]\",model.attentions[head].a[:model.attentions[head].out_features, :].shape)\n",
    "        Wh1 = torch.matmul(x, model.attentions[head].a[:model.attentions[head].out_features, :])#(8*16)*(16*1)\n",
    "        Wh2 = torch.matmul(x, model.attentions[head].a[model.attentions[head].out_features:, :])\n",
    "        e = Wh1 + Wh2.T#8*8\n",
    "        print(e.shape)\n",
    "        e = model.attentions[head].leakyrelu(e)\n",
    "        zero_vec = -9e15*torch.ones_like(e)\n",
    "        attention = torch.where(tokenized_test_edge_temp > 0, e, zero_vec)\n",
    "        attention = F.softmax(attention, dim=1)\n",
    "        #x = torch.vstack((x,model.attentions[head].W))\n",
    "        h_prime = torch.matmul(attention, x)\n",
    "        layer1_out.append(F.elu(h_prime))\n",
    "        \n",
    "    #combine all the heads output\n",
    "    layer1_out = torch.cat(layer1_out,dim=1)\n",
    "    print(\"layer1_out.shape\",layer1_out.shape) #8*32\n",
    "    print(\"model.out_att.W\",model.out_att.W.shape) #32*2\n",
    "    \n",
    "    x = torch.mm(layer1_out, model.out_att.W)\n",
    "    print(\"x\",x.shape)#8*2\n",
    "    \n",
    "    Wh1 = torch.matmul(x, model.out_att.a[:model.out_att.out_features, :])\n",
    "    Wh2 = torch.matmul(x, model.out_att.a[model.out_att.out_features:, :])\n",
    "    e = Wh1 + Wh2.T\n",
    "    e = model.out_att.leakyrelu(e)\n",
    "    zero_vec = -9e15*torch.ones_like(e)\n",
    "    attention = torch.where(tokenized_test_edge_temp > 0, e, zero_vec)\n",
    "    attention = F.softmax(attention, dim=1)\n",
    "    \n",
    "    h_prime = torch.matmul(attention, x)#(1*36)*(36*3)\n",
    "    print(F.softmax(F.elu(h_prime),dim=1))\n",
    "    predict_temp = torch.argmax(F.softmax(F.elu(h_prime),dim=1)).cpu().detach().tolist()\n",
    "    test_result.append(predict_temp)"
   ]
  },
  {
   "cell_type": "code",
   "execution_count": null,
   "metadata": {},
   "outputs": [],
   "source": []
  },
  {
   "cell_type": "code",
   "execution_count": null,
   "metadata": {},
   "outputs": [],
   "source": []
  },
  {
   "cell_type": "code",
   "execution_count": null,
   "metadata": {},
   "outputs": [],
   "source": []
  },
  {
   "cell_type": "code",
   "execution_count": null,
   "metadata": {},
   "outputs": [],
   "source": []
  },
  {
   "cell_type": "code",
   "execution_count": null,
   "metadata": {},
   "outputs": [],
   "source": []
  },
  {
   "cell_type": "code",
   "execution_count": null,
   "metadata": {},
   "outputs": [],
   "source": [
    "model.eval()\n",
    "test_result = []\n",
    "for ind in range(len(test_emb)):\n",
    "    print(ind)\n",
    "    tokenized_test_edge_temp = tokenized_test_edge[ind]\n",
    "    layer1_out = []\n",
    "    for head in range(model.nheads):\n",
    "        t = torch.reshape(torch.tensor(test_emb[ind]),(1,test_emb[ind].shape[0]))\n",
    "        #test_emb=test_emb[ind]\n",
    "        print(\"model.attentions[head].W\",model.attentions[head].W.shape)\n",
    "        #x = torch.mm(test_emb[ind], model.attentions[head].W)#(1*35)*(35*32)=(1*32)\n",
    "        #x = torch.mm(t, model.attentions[head].W)#(1*35)*(35*32)=(1*32)\n",
    "        x = torch.mm(t, model.attentions[head].W)#(1*7)*(7*16)=(1*16)\n",
    "        #x = torch.vstack((x,model.attentions[head].W))#(1*16)+(7*16)=(8*16)\n",
    "        print(\"model.attentions[head].a[:model.attentions[head].out_features, :]\",model.attentions[head].a[:model.attentions[head].out_features, :].shape)\n",
    "        Wh1 = torch.matmul(x, model.attentions[head].a[:model.attentions[head].out_features, :])#(1*32)*(35*32)\n",
    "        Wh2 = torch.matmul(x, model.attentions[head].a[model.attentions[head].out_features:, :])\n",
    "        e = Wh1 + Wh2.T\n",
    "        e = model.attentions[head].leakyrelu(e)\n",
    "        zero_vec = -9e15*torch.ones_like(e)\n",
    "        attention = torch.where(tokenized_test_edge_temp > 0, e, zero_vec)\n",
    "        attention = F.softmax(attention, dim=1)\n",
    "        x = torch.vstack((x,model.attentions[head].W))\n",
    "        h_prime = torch.matmul(attention, x)\n",
    "        layer1_out.append(F.elu(h_prime))\n",
    "        \n",
    "    #combine all the heads output\n",
    "    layer1_out = torch.cat(layer1_out,dim=1)\n",
    "    print(\"layer1_out.shape\",layer1_out.shape) #1*384\n",
    "    print(\"model.out_att.W\",model.out_att.W.shape) #384*3\n",
    "    x = torch.mm(layer1_out, model.out_att.W)#1*3\n",
    "    print(\"x\",x.shape)\n",
    "    Wh1 = torch.matmul(x, model.out_att.a[:model.out_att.out_features, :])\n",
    "    Wh2 = torch.matmul(x, model.out_att.a[model.out_att.out_features:, :])\n",
    "    e = Wh1 + Wh2.T\n",
    "    e = model.out_att.leakyrelu(e)\n",
    "    zero_vec = -9e15*torch.ones_like(e)\n",
    "    attention = torch.where(tokenized_test_edge_temp > 0, e, zero_vec)\n",
    "    attention = F.softmax(attention, dim=1)\n",
    "    layer1_hidden_weights = model.hid[len(train_sentences):] #last layer after train size\n",
    "    print(\"layer1_hidden_weights\",layer1_hidden_weights.shape)\n",
    "    test_hidden_temp = torch.cat((layer1_hidden_weights,layer1_out))\n",
    "    x = torch.mm(test_hidden_temp, model.out_att.W)\n",
    "    print(\"x 2nd layer\",x.shape)\n",
    "    print(\"attention\",attention.shape)\n",
    "    h_prime = torch.matmul(attention, x)#(1*36)*(36*3)\n",
    "    print(F.softmax(F.elu(h_prime),dim=1))\n",
    "    predict_temp = torch.argmax(F.softmax(F.elu(h_prime),dim=1)).cpu().detach().tolist()\n",
    "    test_result.append(predict_temp)"
   ]
  },
  {
   "cell_type": "code",
   "execution_count": null,
   "metadata": {},
   "outputs": [],
   "source": [
    "#test_result"
   ]
  },
  {
   "cell_type": "code",
   "execution_count": null,
   "metadata": {},
   "outputs": [],
   "source": [
    "#test_labels"
   ]
  },
  {
   "cell_type": "code",
   "execution_count": null,
   "metadata": {},
   "outputs": [],
   "source": [
    "#Labels\n",
    "#1 : 'IwantToSetUpAtransfer'\n",
    "#0 : 'Contributions'\n",
    "#2 : 'IwantToSetUpAwithdrawal'"
   ]
  },
  {
   "cell_type": "code",
   "execution_count": null,
   "metadata": {},
   "outputs": [],
   "source": [
    "#l_comb=test_labels"
   ]
  },
  {
   "cell_type": "code",
   "execution_count": null,
   "metadata": {},
   "outputs": [],
   "source": [
    "#labels = encode_onehot(l_comb)"
   ]
  },
  {
   "cell_type": "code",
   "execution_count": null,
   "metadata": {},
   "outputs": [],
   "source": [
    "#labels,d = encode_onehot(l_comb)"
   ]
  },
  {
   "cell_type": "code",
   "execution_count": null,
   "metadata": {},
   "outputs": [],
   "source": [
    "#labels = torch.Tensor(labels)"
   ]
  },
  {
   "cell_type": "code",
   "execution_count": null,
   "metadata": {},
   "outputs": [],
   "source": [
    "#labels = torch.LongTensor(np.where(labels)[1])"
   ]
  },
  {
   "cell_type": "code",
   "execution_count": null,
   "metadata": {},
   "outputs": [],
   "source": [
    "len(labels)"
   ]
  },
  {
   "cell_type": "code",
   "execution_count": null,
   "metadata": {},
   "outputs": [],
   "source": [
    "idx_test"
   ]
  },
  {
   "cell_type": "code",
   "execution_count": null,
   "metadata": {},
   "outputs": [],
   "source": [
    "labels[5601]"
   ]
  },
  {
   "cell_type": "code",
   "execution_count": null,
   "metadata": {},
   "outputs": [],
   "source": [
    "labels[idx_test]"
   ]
  },
  {
   "cell_type": "code",
   "execution_count": null,
   "metadata": {},
   "outputs": [],
   "source": [
    "print(classification_report(labels[idx_test].cpu(),test_result,digits = 4))"
   ]
  },
  {
   "cell_type": "code",
   "execution_count": null,
   "metadata": {},
   "outputs": [],
   "source": [
    "# model.eval()\n",
    "# for ind in range(len(test_emb)):\n",
    "\n",
    "#     tokenized_test_edge_temp = tokenized_test_edge[ind]\n",
    "#     layer1_out = []\n",
    "#     for head in range(model.nheads):\n",
    "#         test_emb = torch.reshape(test_emb[ind],(1,test_emb[ind].shape[0]))\n",
    "#         #print(test_emb.shape)\n",
    "#         x = torch.mm(test_emb, model.attentions[head].W)\n",
    "#         x = torch.vstack((x,model.attentions[head].W))\n",
    "\n",
    "#         Wh1 = torch.matmul(x, model.attentions[head].a[:model.attentions[head].out_features, :])\n",
    "#         Wh2 = torch.matmul(x, model.attentions[head].a[model.attentions[head].out_features:, :])\n",
    "#         e = Wh1 + Wh2.T\n",
    "#         e = model.attentions[head].leakyrelu(e)\n",
    "#         zero_vec = -9e15*torch.ones_like(e)\n",
    "#         attention = torch.where(tokenized_test_edge_temp > 0, e, zero_vec)\n",
    "#         attention = F.softmax(attention, dim=1)\n",
    "\n",
    "#         h_prime = torch.matmul(attention, x)\n",
    "#         layer1_out.append(F.elu(h_prime))\n",
    "\n",
    "#     #combine all the heads output\n",
    "#     layer1_out = torch.cat(layer1_out,dim=1)\n",
    "\n",
    "#     #print(\"layer1_out = \",layer1_out.shape)\n",
    "#     x = torch.mm(layer1_out, model.out_att.W)\n",
    "#     Wh1 = torch.matmul(x, model.out_att.a[:model.out_att.out_features, :])\n",
    "#     Wh2 = torch.matmul(x, model.out_att.a[model.out_att.out_features:, :])\n",
    "#     e = Wh1 + Wh2.T\n",
    "#     e = model.out_att.leakyrelu(e)\n",
    "#     zero_vec = -9e15*torch.ones_like(e)\n",
    "#     attention = torch.where(tokenized_test_edge_temp > 0, e, zero_vec)\n",
    "#     attention = F.softmax(attention, dim=1)\n",
    "\n",
    "#     h_prime = torch.matmul(attention, x)\n",
    "#     print(F.softmax(F.elu(h_prime),dim=1))"
   ]
  },
  {
   "cell_type": "markdown",
   "metadata": {},
   "source": [
    "# Test Function Implementation Anup"
   ]
  },
  {
   "cell_type": "code",
   "execution_count": null,
   "metadata": {},
   "outputs": [],
   "source": [
    "df_test"
   ]
  },
  {
   "cell_type": "code",
   "execution_count": null,
   "metadata": {},
   "outputs": [],
   "source": [
    "features.shape,adj.shape"
   ]
  },
  {
   "cell_type": "code",
   "execution_count": null,
   "metadata": {},
   "outputs": [],
   "source": [
    "tokenized_test_edge.shape,test_emb.shape"
   ]
  },
  {
   "cell_type": "code",
   "execution_count": null,
   "metadata": {},
   "outputs": [],
   "source": [
    "model(features, adj).shape"
   ]
  },
  {
   "cell_type": "code",
   "execution_count": 112,
   "metadata": {},
   "outputs": [
    {
     "data": {
      "text/plain": [
       "tensor([3500, 3501, 3502,  ..., 4997, 4998, 4999])"
      ]
     },
     "execution_count": 112,
     "metadata": {},
     "output_type": "execute_result"
    }
   ],
   "source": [
    "idx_test"
   ]
  },
  {
   "cell_type": "code",
   "execution_count": null,
   "metadata": {},
   "outputs": [],
   "source": [
    "t=idx_test-3500"
   ]
  },
  {
   "cell_type": "code",
   "execution_count": null,
   "metadata": {},
   "outputs": [],
   "source": [
    "t"
   ]
  },
  {
   "cell_type": "code",
   "execution_count": 127,
   "metadata": {},
   "outputs": [],
   "source": [
    "def compute_test():\n",
    "    model.eval()\n",
    "    output = model(features, adj)\n",
    "    loss_test = F.nll_loss(output[idx_test], labels[idx_test])\n",
    "    acc_test = accuracy(output[idx_test], labels[idx_test])\n",
    "    #print(output[idx_test],labels[idx_test])\n",
    "    print(\"Test set results:\",\n",
    "          \"loss= {:.4f}\".format(loss_test.data.item()),\n",
    "          \"accuracy= {:.4f}\".format(acc_test.data.item()))"
   ]
  },
  {
   "cell_type": "code",
   "execution_count": 128,
   "metadata": {},
   "outputs": [
    {
     "name": "stdout",
     "output_type": "stream",
     "text": [
      "Test set results: loss= 1.1551 accuracy= 0.7567\n"
     ]
    }
   ],
   "source": [
    "compute_test()"
   ]
  },
  {
   "cell_type": "code",
   "execution_count": null,
   "metadata": {},
   "outputs": [],
   "source": []
  }
 ],
 "metadata": {
  "accelerator": "GPU",
  "colab": {
   "provenance": []
  },
  "kernelspec": {
   "display_name": "conda_pytorch_p39",
   "language": "python",
   "name": "conda_pytorch_p39"
  },
  "language_info": {
   "codemirror_mode": {
    "name": "ipython",
    "version": 3
   },
   "file_extension": ".py",
   "mimetype": "text/x-python",
   "name": "python",
   "nbconvert_exporter": "python",
   "pygments_lexer": "ipython3",
   "version": "3.9.15"
  }
 },
 "nbformat": 4,
 "nbformat_minor": 1
}
